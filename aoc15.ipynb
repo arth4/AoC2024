{
 "cells": [
  {
   "cell_type": "code",
   "execution_count": 2,
   "metadata": {},
   "outputs": [],
   "source": [
    "import numpy as np"
   ]
  },
  {
   "cell_type": "code",
   "execution_count": 3,
   "metadata": {},
   "outputs": [],
   "source": [
    "input = '##################################################\\n#O...........##..OO..O.OO..O......#OOOO.......#.##\\n#O..#....O.....#O........O.O........O.O.O.#..O..O#\\n#.O.O.......O.OO..O#O.OO...O.....O#O.##..O.......#\\n#O.O...O.#...O..O##.OOO.OOO#....O....O#O.O#....O.#\\n#.O#.#O.O.O.....O...O..O.....O...O.O...#OO..#....#\\n#....O..O...OO.#.O.O.O..O.#........OO..O..#.O...O#\\n##O...O.O..OO..O.O..OOO...O#......O.....#..O....O#\\n#O.O.......OOOO....O.#OO.O...O..O.#..O#O.O.O#....#\\n#.O.O......O..OO...........OO.OOO.#O.OO#O........#\\n#O......O.O.O...O.#OO.....O.OOO..O.....O.O.#..OO.#\\n#..O.O...O.OOO.#....O.#O....O...O..OOO...O.....O.#\\n#.OO..O...O.O.O.OOOO.O...OOO..OO.........##..O...#\\n#..O...O....O...O.#O..O......O.........#.......#O#\\n#..O.O.#O.O.OO#..#O#..OO..O......#..O.O....#...O.#\\n#....OOOO.OO....OO#.O.OOO.O.O..........#O#...#.O.#\\n#...O.....OO...O.#O..O..O.......#..OOO#O..#......#\\n#.OO..O.O###O.......O....OOOO..O##.O.OO.#........#\\n#.O.O..O#.........#.OO.OOOO..OO..#O..O.O...OO#...#\\n#.O..#OO.O.O...O.O..O..OO...OO.O...#.#.O#O.#O....#\\n##.O.OO.O.O...OOO..OO.OOO...........O....#.O...#O#\\n#O.........O.......OOO....#OO..O...#O.OO..#..O.OO#\\n#..OO.#O........O....O...O..OO......O...O..O.....#\\n#..O..OOO.O...#O#.O..O.O.O......O......O.........#\\n#OO.O...OOO.......O.....@.O.O.....#O..OO...OO..O.#\\n#.O.O....#O#...O.O...O.O.OO.##..O.#...O...OO...O.#\\n#...OO.OOO...#OO#OO....O.#.O...O.O.........O.O#..#\\n#..O.O........#...#.#....#..#O.O.#.....#.OO..O.#.#\\n#..O..#OOO...#.#........O.#..O.......O.....OO...O#\\n#.##OO.O......OOO.#..O....O..#O.O..O....OO.......#\\n#O..OO...O...O.#O.#O.....#O....#..OO.O#.#.OOO...O#\\n#O..O...O..O.O...O.O..O.#...O.OO..#.OO.O.........#\\n#....OO.O.....O.OO..O....O.OO.O...OO.O.#...O..O###\\n#.OO..O..##OOOO.#.O#....OO.....O..OO.O.#O.OOO..O.#\\n#..O....#.....O....OO.....OOO.O..OO..OOO#O..O.O..#\\n##...O.O...OO...O....OOO...O....OO...OOOOO#..#...#\\n#...O###....O......O...#.......#..........O#.OO.O#\\n#O.......O.O.OOO..#O....O......OOO.O.O.O.O.O.....#\\n#O.#O....O...#.OO.....#O...O..O...O#.O...........#\\n#.........O......O....O.......OO.O......OO....#..#\\n#..O...O.....O.#.#..#O...#...O..OO..O#O#..O.O..OO#\\n#.O.O#...OO...O....O......OO......O..###..O..OOO.#\\n#O...#...........O..O.#.#...O.O......O....O.O.#.##\\n#.#O...#..O.OO.O.O....O.OO........O...OOOOO...#O.#\\n#....#......#.....O..OO..O.O.#.#.#O.........#.O..#\\n#O......O.................OO.#O..#..#.#..O...OOO.#\\n#...OO.#....O...OO...#.....O..O...#OO....O.....O.#\\n#.O.O.O....#..#OO.......O.#...O..O#O...#O..O.....#\\n#...O...O...##..#.O.#..O.O..#...O.....OO.O..#.O..#\\n##################################################\\n\\nv>>v<>^vvv<v^v^^^>^^v<><^<<v>^v<^^>>>>>>^^vv^<v^<^>><v>v^>>^^^^<^^<^^v>v<v^>vv^><<<>^<v<^>^v^vvvv<<>>^>>v^<^v^v<>>^<^><^<^^<v^<^^<^v<<>^v^<><<>v>>^<v<<v^^^vv^vvvv^^v^^^^<^>^><v<v>v<>^>>><>v>^<^<>^^>^>v<v>><v<^<^<><><^v>><vvv>>>v^^<<^>>^>^<<>vv<vv<^^>^><^<^><>v^<vv^v^^>>>^<^v>><v^v^>v><>>^<^<<<v^^^<vvv^^>^^<^<><v>^v^>v^<>>v<>^vv>><^^<v>>^<v>^<^>>>^^>^<^<><>v>>>>>^><>vvv<<v^v<<<vv^<^v><>>><><<^<>v>^v>v^^^<<<<<^^^v>^^>^^v<v<v><v^>^^vv>v>v<v><>^>>^^^vv^>^<^^<<^^<v^v>^v<<>><v^<<^v^<vv<<^>^>>><v<>^<<<<>><<v<v<>>>^^v^v^>v>>^<v<<>v^<v>^^v^<<v>^v^>vv^v>vv><v^>v>^>^v^^>>>><>^>>^v<^^^^v^<v>^><v^vv^^v<vv^v>>^>>vvvv<><v>>^<<><v><v<^v<vvv>^<v^v><>>^^^v^><<><^<<<v>><v^<<^<^><v<^^<v>^^>><^vv>v<>><v<>^^^>^^vv^^>>><>vvv>v<^^><^vv^<v>>^<^>v<vv<^>>><>v<><^>><>>^><vv<<>^>v<v<<vv<<<<><>v^vv<^v>^v<>v^<<><^><><><^><><><^<>vvv>^^>><<>vv^v>^vv^<>v><<>^<v>vv^>^v^v>v<v<>>^v^v<><^>><^^^>^^<>v>vv^<>><^<<^<^^^>>>><><<^>v<>><v><v^>>vv<<^<<^v^<<><<<^>vvv<^<<vv><<<^v>><<><^^v>v^<^>>v^^<<^<^<<>^v<>>^v<^v<<v<<v>^v<>^<^^v\\n^^>vv>v<^^>v^^<^v<^vvvv><<><^^^v<><v^^<<^<^>>>>^^^v<v<><^vv<<^>>>v<v^v>>v^v^v^>v>^>^vv<>v<<>v<^^v><<>^<v<>^v<vvv><<v<vv<v^<><>^<<>>>vv>><<^v^<<>><<>>>^<<<>v><vv^^^^<^><<^vv>><v>vv>>^^>^^^vv^v>vv>^v>^>v<^v^<><^>^^^v^v<v<^>^<>vv>v>^v^^<<^^<^<^v^v<^^^><<>>><^>>^v<<^<<>^^^>>^^^v>^v^>>^^>>v<v^<v><^>v^v>vvv>>><<>^^v>>^<^^>>v<<v<>v<^>vv^v>>v><<>^^^^>^v<^>>>^<v>vvvv<v^^^<v<<><v><^v<>>>>^>v<<>v^^<>^<v<><^v^v^>vv^<><<<>v>v>>^v^<><v^<>v<vv^<><^vv><^>vv>^^v<<v>>v>>>^<<>v^v<^v><<^^<^v<v>^^vvv^v<>>^^<v^>^v>>^<<<>^><v>>^vv>^^v>^^v^^^<>v><^^^<^<<<^<^<><<>^v<>^><v><^>v^v<v><v<^v^>vv>v^>v^v^>^vv^<^<^<^<<^v><v<>^<>^v>><v^<v><^>^^v^<<v<vv^><v^<>^><v<<>^v<^vv>>^^^<<>><v><>v>>>>>v<^<<><<v^^^<>^<vvv>^^<vvv>v>v>>>>^^><<>vv>v^^<<<<<^^>^<<>><<^<>^^<v><vv<v^<><<^>^><<vvv><^>>^vv>v<>><v^>>>^<<><v<^>^^<vvv<<>>v^^>^^<v<^^^>v^<v<^v><vv<>^^><>>^v>>><v>v>v<v^>v<vv<>v<^v<v>vv<>><v<^>>^^^^^>v>^>^<>v>^><<<>^>>v<v^^><>^>v><v^>^<<v^>^v^vvvv^v<v<v>><v^>v<v^<<v^^v>>>><>>vv^v><<<><v>v>^<<><>>^>v^v>^>><v>vv^>v^vv<<<^<>^<<^v^><\\n><^v>v<<<>vv^^>>^>^<<^<>v>vv<<>>v<^<^^^<v^<<<^^vv>v<>^v^v^vv<>^v<v^>v<^^v>>^v^>><<>^>^>>v>>^vv>v><<><<v^^<^v<>^>vv^vvv><>^^^v^>^<<^^^>^v^^^vv^>^>^<^<v>>v><<v^>>^>v<<^^<v>^<<>>^><v^^><v<>^^vv><>v>><<v<><^<v><><^<v<<^v>v>^<>^><<vv<v<vvvv><vvv<^>>v>v^v^vv^v^><v<vv<v^>>v><^v^v^v<>^v<vv<v^<<v<^<^^>^<v^>^v<<<<>v<^>^<v^v><v<^^v^v^<<<v<<<^>>^>^<<<^<v>^^>>^>>v<^>>>v<>^v<v><<vv<>^v<^v^v^^>vv<^>><v^v<v^^>vv^<^^^v^>><<^<v>^vv>vv<<<>>>>>>vv>>^>>^^<^^v<v<<>v>vv^><v^v<^v^>v<<>>>>vv^^>>^>>v>^v>^<><vvv>>>^>^<^^<>v^<^>^<<v<^>><v^>>v<>>v<v^<v^v^v>v>^^^v>^v><v<><v^>vv><v^>v<^<>>v>v^^v>^^<<^^^>^<><vv^<>^>v^><<<>v<<<<<>><<<^^><^>^^<<<>^<>v^<>^<^v^>>v><>v<vv>v><v^>v^v^>v>^<>v^<>v<<>^v<^^vvvv^v^<><<^^>^^^<<v^<v><<^>v>>>v^<>>^v<<^><^v>^>^v^<<v^<>vv<>^<^vv>vvv^^<v^^<^<<^>v^vv>^^>>v^>v^<v><v<^<^<^v<^>>v^^<^^><<<v<^<^vv<v<v>>^^>>^^^<>>>>^v<v<^^^^<v<^<<vv<>v^^>>v>v<>>>^v>v<^>><<>^>><>v^^<vv<<^>v>>v<>^<^^>>>>>vvv>v>>^v><<>vv^^>><<<^<<v><<><<v^<^^<>^^>v^>^><<vvvv^v^>^>><<>>v<>v^><<v^^<^^v<^>v<^vv<<<^>>^><>vv^v^^v>^^\\nvvv<>>v>v^^>v^><vvvv><<vvv^v<v^^^vvv>^v<^^<v<<vv^>>v>><^>vv>>v<>^v>^<v<>>>>^<<<v<>>^v><v>>>vv^>^^<>v<>>><v^<<vvv>^^^vv>^<^^^v<^<v>>>vv<<^vvvv^><vv>>v>v>^<vv^>^>>>>v<^^^>vv<>vv^>v<>^^>>^<<vv^>^>^<>^vv<<^^<>><>><v^v<^>>v^>^vv^vv>><<>>^v^^^<^^<>v^<^v^<^^<<><v><>^^<<<>^v^^>>^v^<>v<<vvvv^<><<<v>v>>v<^v<><>><<>>>>vv>vv<>^<<^<<v^^<>^v<v^^><v<>>vvv>^v>>^v^>^>^<v><v><>^<<^<<>vv<>v^><>v^>^>>v<^v^>^v^><v^^v^^>v^v<v<vvvv><v<<>v>^v^<<^<<v<v><v<<^^>^^v<v^^^v^<v<^v<^v^>><<v^^>^vv<v><v><>>><v>v<>^v^><<<v<<^>><>^><^^v<v><^<<v<><<>>>^>^^<^<<><><><><<<v<vv^vv>^<<vv<>v<v><>><>^v>^><^<v>v<<>^v<<<<><<^v^<>v^vv^^^>>vv><vvv<<^<<><<<<><v>^<^^^^<>>v^<><^vv^>^^><^^>v><^v^><^v<v><^v^<^><<vv^>v^v>><^v>v<v><vv^<>v^v^>^v<>><<>v><>><><<>^v>>^>>^>>v<<<>>>v<v<<v<><<<v^<<<>v<<v^v>v<<v^<>>^>^v^^^v^vv^v^<^><^^vv^v^<<<<^><>^^v^v<vv<><vv^><<^>v>^v<v><>><><^<v^vv>>>v>>><<<v<<v>^vvv<^^<v^>^v<v^^v>^^>^^v><v<<>^v<^v<^v<>^>vv<^v<v<v<<vv>^><v^^v>>^v<^vv>^>>>>^^v<<vv^^^v^<v^v^>>^^^^^vvvv^^><vv>>^^><><vv>^v>^>v><vv^vv<>^>vv^v<>^^^v\\nvv>v^vvv><><>>vv>>>^^>>><<^vv^^^v^^><>^<v^^v>^>v<<v>><v><^v^^<v^v>>^>><v<^>><v>v>^v<>^v>^<>v<v>^>vv^<v<vvv>v>v<^vvv<>v<<vvv<^v><>>^v<><v>^<<>>v<>>^^><v<^^v^^><v<vv<^vv>^<><>v><<>><<v><v>><vvv<^>v>><v<<^<v^^<v><v<<><><>>vv>><<>^><>>^>>>v^<>vv>^<<>v>^>><<vv><^<v<v<vv^>vv^^vv><<>vv^vv><><^v<>>>>>v>^v<vvv^<vv<<v^<v<<^v<v^^>>>v^vv>^<v>>v^>v><^<^vv^v^<^v>v<>v>^vv^<^^<>v>^v^v^><<^^<^v^>vv^v^>v>>^><^><<<>>v^v>v<vv^v<^^v^^<v><>v^<^^v<<>^v>>^>^^<>v<>vv^^^<vv^<<^^>><>^v<<>>v>^>^<v<^vv^>>>v<v^^><<>vvv><>v<vv^^<^<^>^^^v>>^<>^v<<^<v>^^>^^>v<^v>v>^^v>^>^>>><<<^v<><>v><<<>vv><<<>^><>><^><v>>>><^<vvv^>vv><<>^<>^<^^v^^^>>^<>v>^<v<><^^^<vv^>vv<^>^^vv>^>^^vvv^>^v>v^<v^v>v<<<>>>>><vv<<<vv^^<<<<><v^^v^vvv>>v^v>v^>>^^>^^^^^<<>>>>v><<><<vv^<v>>v<v^v<><>^^>^v><>v>><<^>v^vvv<<vv<vvv>^^>vv>^<>v>v><^^>>>^^v>^^v>><<^>v<>><>v<<<<v<>^vv<v<v<>v<>^><>v<>^>>>>><^>^v^<v^v>^^><vvv>v<^^v>>^<>v^v>^>^<^><<>v><>v<<>^^<>v^^v>v>>><><<<>^v^>^>v^^>^^vvv>v^>^><<v>v>vv^<v<^<^>>^^><^>^<<>v^<v><v<>>^v<<v^>^^^>v>vv^^>v^>v^>v<<v>><>v^\\n<^v<vv>><v><<<<><^>>>^<><v<v^vv<>vv^^vv<^<<v^^^^<^<^>^<>>v<<v<^v^^^>>><<v<v<v^v>>v<^^<<v><><^^<^^v<>^<^><<^^<>^^^v>>>v^^v^><^><>>>v>vv^^>>>^<vv^vv<^><^<^>^v>v><^v^v^<^<><>v^^^>>^><>>><>v>^<<^<>v>>^<^><>><vv>v>>v>v^<^v<^^<^><<>>>vv><v<v>^><v<<^^>>v<>>>v^^>^<v^>>vvv<vvv><^v>^v^<v<vv<<vv^vv>v^^^v^>v>v>^<v><v^>><<v^^><vvv^^vvv>^<^<>v>^<v>^<v>^^<vvvv>^<>v<v<>v>><v^>>vv>^v<^v<<^><v>>^<<^>vvvv<>^vvv^^v<<^>^^>v^>^>vv^^>>>^<<^v^v>v<^>v^^<>v<>v^><v>>^^^v>v<v>^v^v<<<<<<v<^^>>>>vv<^^v>^>^><^<>>v>><^^^^^v<<^v^v^>>^^<>^<v<vv>^v<<^>^>v<>^v<v<^^<v>^<>><^v>^v>v<<>^v<^>vvvv<<>vv>^<<vv><>^<<>^^<<<>><>^^^v^v^>vv>^><^^^><vvv^<v<^<v>v^v^v><v^v<<<<^vv^^v><v^<v<>>^>>>^>v<><^<^^>vvv^>^^>v<>^^^<<^v^<<vv^<v^<v<<^^^v><v>>^<v>>vv^<vv^^v<v^<^>^^^^^>><>^><^v><<^v<<>vv>>v^<<<^^<v>>^vv^>v>><v^<^>^^>^>v>v^^>v^><><<<^^><v<<vvv^<><><^>>^v^^>v><^><v<<^v>vv><><>><<><v<v<<v>^v<<^v><^v^><<v^^^v><v<<v<^<^>v>>^>>^v<v^^vv^>v<<v>v^v^v>^<^^^v^><>^>>^v^^v^<<^<><><>>><^v<vv<>^v>v<^^vv>vvv>vvv<^<^v><^<>^><^^<v^v>v<^^<^vv^>v<^v<^v^v<\\n><<>^^>v<^^v>^v^v<><vv<<<<^vvvv^^<<<^>><<>v<<v><<vv>^v<^<<<^<>^^vv><vv^>v^<<v^>v<><v<^v<>v<<<^vv^<>v^v^><>>>v>>^>^^vv<vvv<v<^><^v><^<^>^^vv<<><v>^>^><>vv>v>vvv>>>><<<<v<>v^<^><>v><><v>^><vv^vvv>^<^<<<<v>vv><<v^<^>^<^<^<><<^v>^vv><^^>^^>vvv>>>^>v<^<v>^^<<v^>^><^<^^>^<v>>^<v>>v>^vvv^<v>><>^>^<<^>^>^v<<vv<^>>^^^^v<><^v<<vv^<v^<v<<<v^<v>><>vvvvvvv><<<v><>>v>>^>^>v><vvv<v<<^v^^v^^><v>vv^vvv<^v^<>^>^<^vvv^<^<><<v^v^^<<<^>><>^>v>v<><v^<<^^<vv<>>><>^^^^^>><v>v<>>^v>^^^^>^><<^^vv^^vv><v<>^^>^v<<^v<vv><v>vv>v^vv^v^<vv^v>><>v<>v^v><><>>vv<>v<>>>>^^<<<<><^^^^vv^v<v<v^>vv^<v<vv>>>^><>><<v<v<<<>^^><>^<<><^^<v^><<>v^>>^><^<><<><<v^>^^v<>>>^vv>vv>>^<><vv^<>^^<v^^vv^<^<<<v^<><>v^^<^^<<v^<^<^><<v<>^<^^v>vv><v^^>v<v^>^<<^v<^<^<v<^><<^^v<>>v<<>>v>^v^<^<<<><^^^^<>>v>>>>><>^<^<>v<<^^^v><v><vvvv>vv^^^^<<v><v><>^^>v^<<^v<><^>vv>v>v^><^<>v>^<v<<vv^v<^<v<^<<^v^>^>v><^^<<^>v<^<<^v<><^^><<<<>^>><^<v^<<^<<>>>^>^^^^<v<>^v<v<v^<<>^^vv^v<vv>>vv<^>v><<v>^v^^<^>^><<<<<><>>v<vvv<<^^^v<^^<>^^><v<>^^^vv^>v^v>>><^^vv>vv<^>\\nv<vv<vv><><^>>>vvv^^<<><v^<>v>vv>^^><v^<>>^v<<>>>^^v^<^^vv<<<^v<^v^^>>^<^>><^>v<^<<vv<v>^^<^>>^<<^<v>>v>^^v><^<<<vvv^<<^^vv><^v><vv>><<^>>^v<v<<^><>v^v<<>>^v<><<v^v><v>vvv>v><>>vvv>><<^<>^<<v^><>>>^>v^^v<v^vvv^<>^^<>v<>^^<><v<>^v^><v^v^>v^^^v>>>v^v>>v^<^^^>^<v^v^>>^v^>^^>>^v>v>>><><>v^<<<vv>><>>v><^^vvvv<^<v<^v>>v>>v<<^^^<vv><>^^>^>><^^v>v^v^vv<<^v<<<^vv^<v<v^>><v>vv<v>v^<^<^>^<><^v<v^^<<<^>>>^>v^>v^><<<<^<v><<><>>^<<>v<>>>^^>v>>>vv>^v^>>v<vvv<>v^<<^>>^v^>><^^>v<^^^>^^>^>><>>><^>>v<><v<<v<v>^>vv^^^<^v^^^>v<>v^vv>><<^>>>vv>^v^v^v<v>^>vv>>v>^v<^^^^<<^><<v<^vvvv>v^^^>>>^<^v^^^v^v><<v^<^vv>^><<><<>>v>^>>v^v><^>><<v^v<vv>^v^>^^<>v^^^^>^^v<<<<<^>^<vv<>^vv<>^^vv^^^v>v^^^^^^<<v^<^><>^>>v<>^<v<^<v<^v^^>v^v>>vv^^^><><<>>^v^<^v>>^>><<^>>v^vv<v^>>>^>v^v>^v<<vvv><^^v<v<<v<^<>v>^>><vv^<>v>^v^>v^<v<>vvv^v<<<^>>vv^^>v>><>v^^<^^<^vvv><<v^>^>vv>><^^>^<v<^<<^>><>>>>>><^>^v>^^^<v^><<<>>vv>^>>^^<^>>^v^vv>>v<>>^><^<><v<<v^^^<v^>><>^^^v<v><v<v>^<^^>>^<>>>v^^^>vv>^^^vvvvv^^^v<<vv^<<^v<><v^>v^<v^^<^^<^<^vv<<^>\\n<vv<vv^v^v>vvv<<<<<>^^^^>^><^^^v>^<<^^><v>>v>^^><>v><v><v^^>vv^^<<v<>vvvvv<>>^<><v<>>^<vv^^<>^>v>v<<>>v<v>>vvv<>^>v><>^><>vv>^<^>v><>v^v<><>>>v^v<^<^<<>^>^v><<><^<^>>^v<>v^v^vv>vv^vvv><^>v<>v^^<<<^><vv>>>^v^<<>>>vv<<vv<^vv>v<>v><<<v><>>v<<^><>^v^vv^v><><>^<<>>^v>^v^v^vv^<^<<v><<^^>v<^<>v<v<vv<v<^<vvv<><<v><><<>^vv^v^<v>>><>^>>^^<v>v<^>v>vv<v^^^^^<<v<><v>>^^<<vv^<v>v<v^<vv^^<^^>v<^<v<<^^v><^v^v>^v<>^<>><<^^v<<v^v>^vv><v>^^^^^v^v><^vv^v><vvv>><vv<vvv><v><v>v<<^^v^^<^v^<^^><>>>vv^<v>v>^v^>^<<>v<>>v<^^^><^<v^><^^v^<<vv<<>v^>^<v<<^>v<^>^>vv>>^^<v>^^>v><<<^v><<<v><<><v<<>^v<<^>>^>><>><v<^>vv<>^v><v^vvv<><^^^^^>v<^v>>v>v^vv>^^^<<><<^<^^v>vv<^v><<v^>><><>v^^<v>v^<v^<<vv^>>v>v>>^>^v^^^><^>vv><v>>v<>>v<<>v^^v<<<^><^<v>^>^<v<>><v^v><v>vvv><^v<><><<>v>^>><><>>>><<^^><<>^^v>v>^^v<v>^^^v<>vv^><^v^<<^<^<<^<^>>^>v<v^vv^^^v^<>vv>v>v>>>>v>^^^^>^^^<^>^^<<>vv^>><vv>v<<>v>>><><v^<^^^<<>>^^^<^<<v^^<>vvv>v^^v<>v<^<v^>>>^><<>^>v<<<>v<><^^<v<^v^^><v><><>^>^>^>^><>v<>>>>^<<^<<vv>>><>><<v<<^<>v^<>^v^^^^>^<^<v<^v\\n^<>>^<vv<>^^v^<vv^v<<<>>^v>v^<v><<v<v^<^>vvv><><^v>>^<<^v<^vv>>^^v<^^><vv^vv^>v<vv<v<>vvvv<^><<<>>v><v>><<^<v>v^>vv<<^vv<v^v>^>>>>>^^<<<^^>v^<>^v>^><^vv<>^<<<<v<^v<>>vv<^v>^>v^<<^<^^<<<>^<<<<^^v^>v^<^v^vvvv<vv<^^<v>^^vv^<>>^^^^v^<><><><><^>^>>v><<v<>>><<^v>>v^v<<<>>^v<vv><<^^<>>v>^>><>vv^<^^<vv<vv>>^^<^<v<^>>^>>>><>v^^>>><vv^v><^^^^^v>v>>v^>><<^v^<^>>^v^<<>vv^^><v<v>^<v<>^<<>v^<>^v^<vv>^>^v<<^<^>><v^v^<v>vv>^^v<v><v>^^^>>v^><<<^v^v<<>v>^^v>^^vvv^>v^>^<<><>v><v^^v><><^>^vv<<<>^>v><vv<>v>v^><><v><v>><<>v>v>>v><<>>v^^<v>^>>v^>^v<<>^^^^^><^<^<^v>><>v><v>>^<>>v>v>vv>^>v><v<^>^<^<<<>^vvv^>^v^v^v<^^^^>^>v^^^<v><v^v^>^<<^^<><^>^<^vv>>v^^^>^^<^v^^^><<<><v^>^><^>^v<^><<><><^^<^<v^v>>>v>>^<<<>>^>v>^<<v<<^v>^<^><<><<^>^^<^<<vv>v><^>v^>vvv^<<^^^v<<^^<><v<<^v^<v<^^^^v^>v>^<v<v<<^v><<^^vv>vv^<v<^>><<>v>v><v>vv<<v>^^<^>vv>v^vv<<<>^v>^v>v><^v>^<v>^vv<>><vvv^v<v^><vv>^^vv<<>^^>v^^<<v^^^><><v^>>^v>vv^>^^v^^>^><^<<<v<<<<>>>>v^^v<^^v^>v<v><>><^>^^^v>v><<<v<<>>^v^><^<<<^<>^v<<>^^^^><<vv>v^<<><vv<>>>vv<vv^<>\\nv^<v><<^^vvv<>^vv<<v<^^v<<>v<>v>><<v><^^>v<^>^v<<v>v>>^><>^^>v><<^v^^^^><<<^v<v<>^>^v<v^^<vv<^v><^<v^<v^>^<>vvv<>v<><vv<v><>^<>v>v><^^<^v^>>^v<<vvv^<>^>v^<v^v<>v>v^>>>^^vv^v<^><^>^<><^^>^^<^^<vv^>>>vvv<^<<>v>><<<>v^v<<<vvv><vv^vvv^^<<>>>>v<^^>^vv>^^<<<v^^v>v>><v<^>>v<^v>vv<>^<><^><^><^v^^v>v^^<>vv>^<><^<<^>>^>>^><^^^<<v^^<<<vvvvv><>^^^^^>>v<<<^vvv<v>vv^<^<<<vv><^^<<vvvv<^^v^<v<<<^<^<^>>><<>>^>v>vv>^^^v^v>^>>>v^<<<<><>v>^><<v><<><<>v><^>v^vv<v><<<v<^<^<<v>v<<v^>^^v>><<<vv^<v^><^<^>vv<<><<>v^>v^<^^<<><><>>><><><>>vv<<>v<><<v<><v<vv<vvv>^>><^^<^^<^v>^^<><v<>v^^^>>>>>^v>^^v<>^vv^v<><><<>v<<^<vv^^<<<<v<vv<^v>>><<<<<^^><<<^<v>v>>><vv<v><^<^^vv<<v>^^><v>^<>^v<vvv^^^<^<<>v^v><^^^^>v<^^<<>>v^v<>>^vv>^>^vv<><<>>v><>vv^>v>><^<^^<<<>v<<<v>>^<v>><^>v>^>>v^>><v<^<^><>^<v<>v^^<>><v>>>vvvv>vv^^vvv<><vv^vv^^>>><>v<^>^^v<v^>vvvv>v<<v<v<^^v>v<^^<<>>v^vv^>^><<v<><v^v<^v>^v^<>^<^><<<^^>v>v>^^^<<^>v<<vv><^>^^<>>>v^<<v>^v^<v>v<v>>>v^v<^<<^^^>^v<><v><>>v>vv<v>>^>vvv<>^^<^<^^^^^><><><v<>>>>^^vvv^^vv>^^<vvv<^^v\\n^<<^>^>v><>>^^^<><v>^^><><<>><>^>^v<v^^^vv<v>^^>^^v^>v^^<><<>^>v^>v<<>vv^>^>>^>^><<v>>^^vv><^<^^v>>^<^^>vv>v>^v^^>^><>^^<^^^^>v<<^>>>^v<>vvv<<>^v>^v<v^^^>vv><v>>vv^^^v>v>^<><^^v<<>^<><vvv>vv<><v<<><<><<<>>^>><<>^<^v^v^vv^<<><^^^vv^<<>>^<^>^>^><v<<^<>^<^<^<>><>v>><vv<>^<^vv>^<^^^>>v>^^v^><^v^>v^<><<<v^>v^v<<v>v^<^<v^v>v>v^^v<><><<^>>v>v><<<<v>><v^v<v<><<^>>^>v^v^^^<<><^^<><<<v^^^>^^<v^^v^<>^^>>><>^><<^>^<<<><<^<>vv<vv^>v<<^^<v<<^^v^>v<><>v>v>>v^v^>^<v^>>^^<v^<<><>vv^^>^^<v^<>v<<^v<<^<<><v^>><v^>>vv<^<>^v<v^><v<>vv><<>>>v>^v<^v><^v><^>^^<<<^vv>>>^^vv>vv<>v<<^>><<^<^>><^><>>v<<>>^v^>>>><^v<>^vv^^^^>^^v<>>><>^<<v^vvvvv^v<^^v>>v^>^>v>>>v<><^v<v<>^<^>^v^<>^v><><>>>^^<<v^vv<v^>>>><>^v<>>v>>>>v><><<^^><v^^^<v>>v<^>v<>v<<>><v>>vv><<<<^>v><v^<<>><<^vvv^v><vv><<^<>>^v^>v^v><<><v^v^<v<^>vv>^<<^^^^vvv>^v><^v^v>v^^<><>^^^v>>v^v^v>v<v>><vvv<<^<^>>v^v^v^><v^^<<>^<^^^>><^>^^^><v<<<v^<>^^<>>>>^>v>v>v<>>><vv^v>>>v^>><<^^<<^><<^^>vv^>^<>^^>^<>^>v<<>vvv<v^>>><^<<^>^v>^>^<><<^v>v^<><>vv>>^^^vv<<^>>vvv<<<vvv\\nvv<^>>v^vv<vvv>vv^>^^<^>>^><<^v>v<^v>^<v^><<^>^v^<^>vv<<>>^v^^^^><><^v^v^<v>^^<>^<<>v^>v^<v>vv^<v>^<^v>><<^v<<<<<>^<vv>v>><<v>^^>^vv<v<v<v<<v<<>>><^vv>>^^<^vv><>^>vvv<<v<vv^^<<>v^<>v<<><<>v<<^v^^<v^^><vv^<^>>^<^><<^^^^>v<^^>^>^^^<<^^v^^<vv>vv>v<^v<vv>^<>^<^><^^v><v^v^>^v^<^^vvv<<<<<v^>^v>^>><^<^^<vv^<>^><^^v><^><<><<^>^vvvv>^v>>v>v>><>vv^^<v<>^>^>v>>>>v><^>^<<v>v><>><>^v^^<^<^><<>>vv<^<^^>^<^^vv<^^^>^>^><>^>>v>>v<<^v^>>^>>>v^v<v^v>v<^>>v^v>v^>^v<^v^<<<^><>v>v^><^v<>vvv<^^<^<v>^><^<vv<<<<v^v<v^<>>v<v^<v<v^^><v^<v<><^>v^><<<<<^<>>>vv<<>^^>^v<<<<^><>^><<v<<><^^<>v<^<v<vv>>^v>>>^<v^>>>^>^<^>><>v>^<<vvv<<><>v><<>>^<>^^<v>v>^>>^v>v^>v<v<<vv^<>v^^v<><vv>>^^v>><^vv>v^v<<<^><v><v>>>^^>^<^<>vv<^<v>>^<^>><>^><<v>v^v>>^v^<^v><<<>>vv<><^v^v<v^>>>><<<v<^v^v<v>^^><^><v>^<>^v^^<^^>v>^<^<>vv^>vv>>>^>^v^^>^^>^v^vv^v^>vv^>^v^^<<v><v^v<vv>><<<<v^vvvv<v>^<<vv^><^v<>v><v<v><><^^^>^<><<v^>^><<vv<v><<vv^^<<^><^vv<>>v<^>>^<>>>v>^vv<^v^v<^vv^<>>>v><^>v^v<^v><^v>v^^>>>^^v^vv<^<><vv^v<^^<vvvv>v^^<v><<><^v<>><v<<<\\n<^<>^>^>^<<^v>><^<<><v^<^^>>v^^^>>>><v><^^v^^v<^<<v<>><^><><^v<<>^vvvvvv^><vv^>><^vv^^v<><>>^v^^<<>^<vvvvv<<v^<vv>v^>v<<>>>^v<^v>^>^v<vv>v^^<v<><^>v><^v^v^>><>^<<^<v<><v^<vv^v<<^>v>^^>>vvv<>v>v>>v^^>v^v^^<^<<v^^>vvvv^>^v<<v^>^<<^>vvv^>vv^^^^<v<^>v>v><vvv<<>^>^>vv><<^^<>^<v<^vvvv<^vv>>vvv^v<<><<^<>^<vvv>><>>>><^^>>v>v<v><<>>vvv><<^<<><v^>v<<<^><>^<>v>v>^<>vv>v<v<v>>>^^^^^<v^<^^>><v>>vvv<<^v^<^^^^>vv^<><<<^^^<>>>^vv<><<^>v^v^^^><^<<v^v><<v<^^>^>>^<^^<>^>>^>v<<vv^>^><^<<>><vv><^v<<^>v<>vvv^^vv<><><<<v>^><v>v<^vv><v^vv<^<^<v><^v>><>>>>><>>><>v><<>vv^v^>v<v<<>^^>v<^>v<>v^<>><^v^>^v^vv^v><v<^>^><><<<^vv^<^<<v^<^><v^v^v^v<<>^^v>v^v>><>^v^v<^^<<vv>>>>vv>>^<vvv<^>^^^^v^^<<v<>v<>v^<v<>><^<>v^<>v^><v^^>v^v<<^><^>>v<<>^v^^^<v<<<^^<^>>^vv><v<<<^>><>>><<^><v><<>v>^^^^v<v>v^^>v^<<vv<>><v^^vv^^><^><^<v^><v>v^>>vv^^>^^vvv^^>>><v^^<^<>>>v<v<>>v^^<<>v>^<>vv<^v>v><^vv<><v>>^v<>^vv^>>v^vvv^vv^>^>^<^^^>^vv^>v^>^^v>^^v^^v>^^<>v<v<<>>vv>^^<<vv^^<<<<>^<>^<><>^^v<v<v<vv^vv>v^<><>>v>v^>^v>^vv<^^^><><>>>v>vv>><>v\\n^v<<^vv<<v>>^^v^vv<v^vv^><<^vv>^v<^>^^<vv^<^vv^^v^^<^>>v^v<<<v^^^vv>>^vv><v<>^v<v>vvv><^^v<>vv>>v>v<><^<>>v><<^><^^v^>><>vvv^>^v<<>v><>^v>>^vv^vv>^<<^>^^^>><v>v<<v<v^>>v<>v>^v>^^^^>vv>>^^<<^<<<<>^><<><<>>>vv^<^vv>^><><<vvv^>^vv<<v<^^>^^v<>^<^^vv><<^<^^>^><<vv<^<<^vvv^^><v<v>v>>>><<<^<v>><<v^^v^<^v<><^^vv><v>^>>>^v><>><>vv<>^><^v<^<<v<<v<v<><^vv^v^v<>^>>v^^v^>v<>>v<^v^>v><v>><>^^>>><v^><v<<v<<^><>>vvv>v>><><<<^v><<v>vvv<^<^><><<v^vv<v<^<>v>>><><<^^^^>>^<>^>>v<v<^v>v^^vv^^^^<>><>>>v>^>vvvv>^<v><^><<<>^<^<^<>v><^v<>><>vv^>vvv^>>vv^>vv^<<v^v^>^^^<>>^><v>v<v><v<>v^<<^^>v>^<><v<vv<v^^v^^<><<<^<^>^>><>><>v^<^<^^vv<>^^<^<v<><v>v>^<>v<vv>v>vvv^<v><^v><><v<^v^>v<<^v<^v^>>^^>^><v>><<^><><^>^v^<>vv>^<<v<v>^^<v>><^<>^^<^^^^v^<<v^<><v^^<v<^^v>^^<>v<<>vv^<^v>>v^v^>>>v>^^>v^v>v<<>v^<<>^>vv<^vvv<><vv^<^>^^>>>^<v^vvv^^<^^v<<>v>>v^>>>^<><^>>^<<>^><>^v^^><vv><<>v^<v<<v^v<v>>>>v^>^><v><<vv^<v>^>>vv^^><>vv<v^<<<^^>^>^<>v<v<<<>><><^^><^v<><>v>><<^>>^><<>^>^<^^^^^vv>v^vv><<^<<><^>^>^v<^v^^<v^>^<<v^^<>^>>v>^^>\\nv^v^<<>>vv<><<<v>^>>vv<><v<^v><>^^><<>>^>^<^v>><<^>>>v^><^>>v><v>vv<^<>^<v^>>v^>^<<<<>^^>v^^<<^<^<>><v<^^<v>><vvvv><v<^>^vv><><^^^>^^v>^<><>^<><^><>^>v<<^^v><><<v>v<><vv>>>>^<<<^v^>^>^v<<vv<vvv<><>>>^<>>^^<>^<vv>v^><vvv>^v<v^^<vv<><>>v^<^v^<v<v>^vv^<>^><><v<^^<^v^<><v^^><v<v<<>>>v>^^v^v^<>^>vv>^^<^^vv^><v><^>>v<<<v^<^^vv<^<^v>><<>>vv<>^^v<v>>vv<v^^><v<^v>^v>^>^>^<v>>>v>vv><>^^<><^^v<><<^>>^^<v^v^v<^<v><^v><>^>vvvv<>v<v^>vvv^^<<<<v><^v<vv^^<v>>>vvv<<>v^^><^<<>^v^<^<v^>>^v^v<<v>^^v>><<v^>v>>^<<^vv<>v^v<v<vv<>>>><>^v>v<>v<>^v^<>v><v>^^><>^^^<v>>^>vv<v>^>>>^^^^<vv<^v<><vv^vv<^>>^^^v>v^<>vv>v^><v^>>v^>vvv<^<>v^>>vv^<^<><^<>^v>v><vvv><v^^>><^^<<^<^^v<^^^<v<v>v<>>^><>^><<><v<^vv>><><><<^^^vv>>>v<^vv^<<<>^<><<^>vvvvv^^^<^<<^^>>^^<<^<^vvvv<>v^><^^vv>^<>><<>>>^>>^^v<<<vv>>v>^>v>><v<<v^^v>^<vvv<v>^>vv<vvv^<>vv>>v^^<^<>v<<v<<v<v><<>>^>>^^>>>><>>^^v>^>>v<^^>^<v^>^><^>^^^v>><<<<<vvv^>>^v<v>vv^<<<v><^><^v^^^<<<^>><^^v><>v^v<>>v^>v^<>^<^<^v^<v>^vv>>v><<v>><^<^<^vv<v<><<>v<><><^^><^^^v>v<v<>v^<>>^><^vv\\n^<^^^>>>^<v<<<v<<^>^v<^^>^><v<^<^<>v<>^><^^><><>><>^^^^>^^>v>^<v>^vv<^><>vv<^<v><>^^<<^>^vv^vv><^v<^>vvv^^vv<>v<^<v^<v<<<^>^<>^^<>^vv^^v<<v>v><^v<>vv><^<><>v^<><<^>>v^<>>^<v<v>><^^>v><<>^>^v^>v<^v^>>^<><^v><v<<<><v^^^^^vv<vv<v^>>v<<v><<>^<<>v>^v><<v<<>^>>><<>^^>^v^v^^>vv<>^><v>><v<<<>vv^^v^v>^^vv^>v>v^^>v^<^vvv<><>^<^<<^^><>>v>v>v<<v>v^>>^^v^^<<<^>v>^v><vv<<<vv<<>>^v^><>^^>v<^<>^<v>><v>>>v<<<^>>^vv^^<<<^<<>v^>^>^<^^^>^vv<><^>v^v<>>v>^<^vvvv^v>>v^<>^<v<>><>v>^v<<^vv>vv^v<><v><^^>><>>><<><^^<vv>v^>v>v^^v>^<v>v^<<vv>>^<<v<v>^^^<>^>>vv><>><<<vvvv<<^<^^>^<^vv>^^><^v<^>v<v<>^v^^v^<^<<>>v^>vvv<v^<><vv<v>v>>^>>vv<v><<^>>^<>^vv^<vv^<>>><<^^v^^<^^vv^>^<v<<>^<>^v>v<><v<v>v><>vv^<v>>>^>^<><^^v^vvvv^>^>v^v<vv<<>>v>>v^vv^><>v><<>>v<<v^^^<vv^^v>>v^>v^<<v^^v>>>v>v<<vvv^>v<^^v^>v<<^vv<<v^>><^>^v>^vv>^^<v<vv<>^><^^<>><v>vv<vv^>vvvv>vv<v<<v<<>v<^^>^<><>vv>>^v>v^<<<<^>>v<v<v<vv>>>><><v>>^^^v<<v<v^<<^^<>^v^>v<>^^v<v<vvvvv^vv><vv^v>v<^^>v<<<<>v^><<>^v>^<v>^^^^<v>>^>^v><>vv><v<^<^<<<^>v<^<^^><<^v^<<>><^<>^>v\\nv><v>^<v^<^^>v>^^v>vv<>>^v<>^v>^>v>>^^^^v>^vv>vv<<<<^>><v><>>vv^<>^><v><v>>>^>>><vv<^^v<>><<vv^<^>>vv^<<><v>v<v>vvv^^^><v<<^v>>^<<v<^<<><><vv^><>^^<v^>^^<<v<><<^<>><<<^^>v><>><>>v><v<vvvvvv^>vv^<<^<^vv<>>v^v><^v>^<>^^v>^v<^^v>>>^vvvvv<<<>v^<><><<^<>>vv>>v<<><v>>v^^^><<>>^<>^>^<^vv^>^>^^>>v^v^>^<v>v><v<<v>v>v<>>^v>^<<v^vv^v<><v<<^>>v><>^<v>^^v<vv^<<v^<<>^<^v<^vvv>^vv^<v>^^v>v<>v^>v<^<>>><>><<v>vv^^>><v<^v>>v<<>>>>vv<v>><^^^v>vv^<>>^^<<v>^v<>>v<^^>>^<>v^^><><^^>^^>^v><^^^^v^vv>^<>^<^^<^>^>>>>>>v^<<^v<<>>v^<v^>^><vvv<>>>^^<v<>>>v^^><<vvv><<^>v>v<^><^^>v<>><<v<^vv<<<<v>>v>v<<v^<<>v>>><<^<vv^>><<>^>vv<<<^v>><<v>><^><v<<^<^vv^><<v><<<^v^vv<>v^^v^<^^>vv<<vv^>^v<vv><<v>v^v^v^^^<^v>><^^^<>^^^<v<>vv><v<vv<v<v^vv><v>^^^><v^v>>><><>>><>>v^<>v>><>><^v<><><<>^<><vvv^<v<vv>v>><v>^<>^^^<vvv^>>>v<>>v^>>>>>v^^<<^^<^<<^^<vv>vvvv<>v<^v<v>>^v^^^^^<>^v^<v<^><v<v<^><v^^^>>^vv^>>^>v<^<<^>^>>^><vv><<v<^v>>>v><v^>>vv>>v^v^^<^^>>>^<^v>>v^vv<^<^v<<>v>^><>>^vv<>v<>^<>^^vv>^<>vvv^^^><^^<>^v^>v>>vv><<<^<>v>>v^<^^<^>\\n><v<v^>vv^<>vvv<<v><<>vv<<^><^<<^>^<^v>><<<<>v>><>^^v<^><^>>vvv^<v<<<vvvvv<v<v<vv^v<>vv>>>>v<^><>^><><vvv>>vv>^>><><v^^<<v<<v<vv>v^v<<vvvvv>><>>^>v><<^^><<^^>v<<vv<>vvv^^vv<vvv<^<>v>><^<^v^<<v^><><v<<^v>^vv<^^^v^v^>v^v>v><<v^v<<v^^<v>>^<^^>^><^>^<^>^^>v>>v^>^>>>^v^<<>^v<v<^^>^v>>v><^^><v^<<<<v<><><^>>v><<vvvv^vvv>^<^v^v^^>^>^v^<<<v<>^>>>v^>><^v<<>><>>^vv<<^^<>>v^<<><<<>vvvv<^^><v^<<vvv<>><v^>^>v>^<^vvv^><<>v>v>v^^^v>><>><^<v^<>vv^>v^^>^>^<^vv>>v>^<^>v<<><vvv^<<v>>^<><<^v<>><v<^^^v^^<vvv<<>>v^^<vv<<><^>^^>>^vvv>vvv>vv^<><<^>^><>v>v<<>^<><^^><>vv^><><^<^v^><<><>^vv>>>^v>>vv^vv<>^^^v<^^<vv>>>^>^><^<v>>><>>vv>>v^^^<v><v><vv^vv^v<^v^^^<><>>^>^v><^<>>>><v^>vvv<<vv<<vvvv^<<^v>vv<<^^><<^v<^<>><^v<v^^^>v^>>^<^<<<vvvv<^>>>^vv>^^v^><^><<<><>>vvv<^^<>vv<<^<<v^^^^^<^>><><<vv><v<v>v^^vv>^^vv>v<<<>v<<<vv<<vvv>v><><<>^v<>>^>v^<><^><^^>v^<<><<>^>v^<>v<<<>^<^v<vv<v^v^^vv>v<^>>v><^>><>>v<<<^vv<<>^v>><v<<<v^><v>v>v^<v<<<<<>><>v<v^>^vv^<>>^v>^^>>vv>>>^v>>><<<v><^>v<v>^<>^vv<^v<<^v^<><vv>>>>v<^v>^<v^v^^>vvv\\n><v<<<^>^<<v><^<<<<<v><v<^v^>v<<>>^<>vv<<><^<v^^<><<v>vv<>>^v^<>vvv^<v^^<<v>v^^^^>><<><v>^<^<<v><v<v<<v>v>^vvv^^<vv^^v><>^^vv<v^>v^<^><<<>>vv<vv^<>v^><^>>^>^<><<>^>v<^v^vv>>^><<>vv>^>v>vv^<>vv>v^<>>vv<>>v>^>>vv^<<<vv^>v^vv^>>v<^^<<^>^^<^v<<<v>^>^^v<<<<<><<^>>v>v^^<v>>^>^<><<<<vv<^^<v<>v^^<<^vvv<^^<v^^v>^<>^><^<^>>v^^>>>v>^<<<<^^>^v>>>^v^><^<<<>><^><<><v<^<<^<<><>><>>^^^>v^>>>^>^<v^v>>v<v<v^><<v>v<>^><^>^v<>^><<v>>v><vv^vv><<v^vv>>^^vv^<^<<^v^^<<<<v>>>><>><><><vv>^v<><v<><<<v<v<>v^<<<^^>^^<>^v^v^<v>^<<<v^<^^v>v^><v^<v^vvv>>^>v><>><>v><>><v^<<v>^vv^v^>>^vv>>^<^^><<>v^<^<vv>>>><><>^^>^^v<<<v><>><<<<><>^<^v>^<<>>>v><^<v^vv^^^<<<>>^<>vv<<v^<v<>>>v>^<<>>v><^<<^<^><v^>vv^v>>^v^v>^><^v^vvv^>>>><<>><<^^^<^^<<<v>v^vv>v^^v<vv><v^<<<^<^<>^<><v^^<<^^>><<<^v<v<>><><v^v>>>vv^>v>^^>vv>^><<vvv<>vv^^>^<><^>^<>><<><><><v^>^^<^<>>^^<<v><>>>^><><^<><>^>^v^<>vv^^>v^<^<>^v<>v>^v^^v<<^^v^>><<>>v^^<<<^v><^^<<^<>vv<>^><>><><^>v<<>v<^<v^>^>v^>^v<><<<^<v><<>v<vv>^<<^<<^^>>><<>^<vvvvv^>^^v<^<<<v^vv^<v<^v^<>v<v^^><'"
   ]
  },
  {
   "cell_type": "code",
   "execution_count": 4,
   "metadata": {},
   "outputs": [],
   "source": [
    "test_input = \"\"\"##########\n",
    "#..O..O.O#\n",
    "#......O.#\n",
    "#.OO..O.O#\n",
    "#..O@..O.#\n",
    "#O#..O...#\n",
    "#O..O..O.#\n",
    "#.OO.O.OO#\n",
    "#....O...#\n",
    "##########\n",
    "\n",
    "<vv>^<v^>v>^vv^v>v<>v^v<v<^vv<<<^><<><>>v<vvv<>^v^>^<<<><<v<<<v^vv^v>^\n",
    "vvv<<^>^v^^><<>>><>^<<><^vv^^<>vvv<>><^^v>^>vv<>v<<<<v<^v>^<^^>>>^<v<v\n",
    "><>vv>v^v^<>><>>>><^^>vv>v<^^^>>v^v^<^^>v^^>v^<^v>v<>>v^v^<v>v^^<^^vv<\n",
    "<<v<^>>^^^^>>>v^<>vvv^><v<<<>^^^vv^<vvv>^>v<^^^^v<>^>vvvv><>>v^<<^^^^^\n",
    "^><^><>>><>^^<<^^v>>><^<v>^<vv>>v>>>^v><>^v><<<<v>>v<v<v>vvv>^<><<>^><\n",
    "^>><>^v<><^vvv<^^<><v<<<<<><^v<<<><<<^^<v<^^^><^>>^<v^><<<^>>^v<v^v<v^\n",
    ">^>>^v>vv>^<<^v<>><<><<v<<v><>v<^vv<<<>^^v^>^^>>><<^v>>v^v><^^>>^<>vv^\n",
    "<><^^>^^^<><vvvvv^v<v<<>^v<v>v<<^><<><<><<<^^<<<^<<>><<><^^^>^^<>^>v<>\n",
    "^^>vv<^v^v<vv>^<><v<^v>^^^>>>^^vvv^>vvv<>>>^<^>>>>>^<<^v>^vvv<>^<><<v>\n",
    "v^^>>><<^^<>>^v^<v^vv<>v^<<>^<^v^v><^<<<><<^<v><v<>vv>>v><v^<vv<>v^<<^\"\"\""
   ]
  },
  {
   "cell_type": "code",
   "execution_count": 5,
   "metadata": {},
   "outputs": [],
   "source": [
    "# b_in, moves = test_input.split(\"\\n\\n\")\n",
    "b_in, moves = input.split(\"\\n\\n\")\n",
    "in_board = np.array([list(line) for line in b_in.splitlines()])\n",
    "moves = moves.replace(\"\\n\", \"\")"
   ]
  },
  {
   "cell_type": "code",
   "execution_count": 6,
   "metadata": {},
   "outputs": [],
   "source": [
    "EMPTY, ROBOT, WALL, BLOCK  = 0, 1, 2, 3"
   ]
  },
  {
   "cell_type": "code",
   "execution_count": 7,
   "metadata": {},
   "outputs": [
    {
     "name": "stdout",
     "output_type": "stream",
     "text": [
      "[[2 2 2 ... 2 2 2]\n",
      " [2 3 0 ... 0 2 2]\n",
      " [2 3 0 ... 0 3 2]\n",
      " ...\n",
      " [2 0 3 ... 0 0 2]\n",
      " [2 0 0 ... 0 0 2]\n",
      " [2 2 2 ... 2 2 2]]\n"
     ]
    }
   ],
   "source": [
    "in_board[in_board==\".\"] = EMPTY\n",
    "in_board[in_board==\"@\"] = ROBOT\n",
    "in_board[in_board==\"O\"] = BLOCK\n",
    "in_board[in_board==\"#\"] = WALL\n",
    "in_board = in_board.astype(int)\n",
    "print(in_board)"
   ]
  },
  {
   "cell_type": "markdown",
   "metadata": {},
   "source": [
    "### part 1"
   ]
  },
  {
   "cell_type": "code",
   "execution_count": 8,
   "metadata": {},
   "outputs": [],
   "source": [
    "dirs = {\n",
    "    \"<\": np.array((0,-1)),\n",
    "    \">\": np.array((0,1)),\n",
    "    \"^\": np.array((-1, 0)),\n",
    "    \"v\": np.array((1,0)),\n",
    "    }"
   ]
  },
  {
   "cell_type": "code",
   "execution_count": 9,
   "metadata": {},
   "outputs": [],
   "source": [
    "def try_move(yx, dir):\n",
    "    tup_yx = tuple(yx)\n",
    "    if board[tup_yx] == WALL:\n",
    "        return False\n",
    "    if board[tup_yx] == EMPTY:\n",
    "        return True\n",
    "\n",
    "    goal = yx + dir\n",
    "    tup_goal = tuple(goal)\n",
    "    if try_move(goal, dir):\n",
    "        board[tup_yx], board[tup_goal] = board[tup_goal], board[tup_yx]\n",
    "        return True\n",
    "\n",
    "    return False"
   ]
  },
  {
   "cell_type": "code",
   "execution_count": 10,
   "metadata": {},
   "outputs": [],
   "source": [
    "board = in_board.copy()\n",
    "r_pos = np.argwhere(in_board==ROBOT)[0]\n",
    "\n",
    "for move in moves:\n",
    "    dir = dirs[move]\n",
    "    if try_move(r_pos, dir):\n",
    "        r_pos += dir"
   ]
  },
  {
   "cell_type": "code",
   "execution_count": 11,
   "metadata": {},
   "outputs": [
    {
     "data": {
      "text/plain": [
       "array([[2, 2, 2, ..., 2, 2, 2],\n",
       "       [2, 3, 0, ..., 0, 2, 2],\n",
       "       [2, 3, 0, ..., 0, 3, 2],\n",
       "       ...,\n",
       "       [2, 0, 3, ..., 3, 3, 2],\n",
       "       [2, 0, 0, ..., 3, 3, 2],\n",
       "       [2, 2, 2, ..., 2, 2, 2]], shape=(50, 50))"
      ]
     },
     "execution_count": 11,
     "metadata": {},
     "output_type": "execute_result"
    }
   ],
   "source": [
    "board"
   ]
  },
  {
   "cell_type": "code",
   "execution_count": 12,
   "metadata": {},
   "outputs": [
    {
     "data": {
      "text/plain": [
       "1475249"
      ]
     },
     "execution_count": 12,
     "metadata": {},
     "output_type": "execute_result"
    }
   ],
   "source": [
    "int((np.argwhere(board==BLOCK) @ [100,1]).sum())"
   ]
  },
  {
   "cell_type": "markdown",
   "metadata": {},
   "source": [
    "### part 2"
   ]
  },
  {
   "cell_type": "code",
   "execution_count": 13,
   "metadata": {},
   "outputs": [],
   "source": [
    "BLOCKL, BLOCKR = 4, 5"
   ]
  },
  {
   "cell_type": "code",
   "execution_count": 14,
   "metadata": {},
   "outputs": [
    {
     "name": "stdout",
     "output_type": "stream",
     "text": [
      "[[2 2 2 ... 2 2 2]\n",
      " [2 2 4 ... 2 2 2]\n",
      " [2 2 4 ... 5 2 2]\n",
      " ...\n",
      " [2 2 0 ... 0 2 2]\n",
      " [2 2 0 ... 0 2 2]\n",
      " [2 2 2 ... 2 2 2]]\n"
     ]
    }
   ],
   "source": [
    "in_board_wide_l = in_board.copy()\n",
    "in_board_wide_r = in_board.copy()\n",
    "\n",
    "in_board_wide_l[in_board_wide_l == BLOCK] = BLOCKL\n",
    "in_board_wide_r[in_board_wide_r == BLOCK] = BLOCKR\n",
    "\n",
    "in_board_wide_r[in_board_wide_r == ROBOT] = EMPTY\n",
    "\n",
    "shape = in_board_wide_r.shape\n",
    "in_board_wide = np.empty((shape[0], 2 * shape[1]), dtype=int)\n",
    "\n",
    "in_board_wide[:, 0::2] = in_board_wide_l\n",
    "in_board_wide[:, 1::2] = in_board_wide_r\n",
    "print(in_board_wide)"
   ]
  },
  {
   "cell_type": "code",
   "execution_count": 15,
   "metadata": {},
   "outputs": [],
   "source": [
    "def try_move(yx, dir):\n",
    "    test_move.tested = set()\n",
    "    do_move.moved = set()\n",
    "\n",
    "    test = test_move(yx, dir)\n",
    "    \n",
    "    if test:\n",
    "        do_move(yx, dir)\n",
    "\n",
    "    return test\n",
    "\n",
    "def test_move(yx, dir):\n",
    "    tup_yx = tuple(yx)\n",
    "    \n",
    "    if tup_yx in test_move.tested:\n",
    "        return True\n",
    "    test_move.tested.add(tup_yx)\n",
    "    \n",
    "    if board[tup_yx] == WALL:\n",
    "        return False\n",
    "    if board[tup_yx] == EMPTY:\n",
    "        return True\n",
    "\n",
    "    goal = yx + dir\n",
    "    # tup_goal = tuple(goal)\n",
    "    \n",
    "    if board[tup_yx] == BLOCKL:\n",
    "        return  test_move(goal, dir) and test_move(yx + dirs[\">\"], dir)\n",
    "        \n",
    "    if board[tup_yx] == BLOCKR:\n",
    "        return test_move(goal, dir) and test_move(yx + dirs[\"<\"], dir)\n",
    "    \n",
    "    return test_move(goal, dir) # for robot and left right moving block\n",
    "        \n",
    "\n",
    "\n",
    "def do_move(yx, dir):\n",
    "    tup_yx = tuple(yx)\n",
    "\n",
    "    if tup_yx in do_move.moved:\n",
    "        return\n",
    "    do_move.moved.add(tup_yx)\n",
    "\n",
    "    if board[tup_yx] == WALL:\n",
    "        return\n",
    "    if board[tup_yx] == EMPTY:\n",
    "        return\n",
    "\n",
    "    goal = yx + dir\n",
    "    tup_goal = tuple(goal)\n",
    "    if board[tup_yx] == BLOCKL:\n",
    "        do_move(yx + dirs[\">\"], dir)\n",
    "        \n",
    "    if board[tup_yx] == BLOCKR:\n",
    "        do_move(yx + dirs[\"<\"], dir)\n",
    "    \n",
    "    do_move(tup_goal, dir)\n",
    "    board[tup_yx], board[tup_goal] = board[tup_goal], board[tup_yx]\n",
    " "
   ]
  },
  {
   "cell_type": "code",
   "execution_count": 16,
   "metadata": {},
   "outputs": [],
   "source": [
    "board = in_board_wide.copy()\n",
    "r_pos = np.argwhere(board==ROBOT)[0]\n",
    "for move in moves:\n",
    "    dir = dirs[move]\n",
    "    if try_move(r_pos, dir):\n",
    "        r_pos += dir"
   ]
  },
  {
   "cell_type": "code",
   "execution_count": 17,
   "metadata": {},
   "outputs": [
    {
     "data": {
      "text/plain": [
       "1509724"
      ]
     },
     "execution_count": 17,
     "metadata": {},
     "output_type": "execute_result"
    }
   ],
   "source": [
    "int((np.argwhere(board==BLOCKL) @ [100,1]).sum())"
   ]
  },
  {
   "cell_type": "code",
   "execution_count": 32,
   "metadata": {},
   "outputs": [],
   "source": [
    "from matplotlib import pyplot as plt\n",
    "from matplotlib.animation import FuncAnimation, PillowWriter\n",
    "from matplotlib.colors import ListedColormap\n",
    "def update(ax):\n",
    "    global r_pos, board\n",
    "    colors = [(1, 1, 1), (1, 0, 0), (0, 0, 0), (0, 1, 0), (0, 1, 0), (0, .8, .1)]\n",
    "    cmap = ListedColormap(colors)\n",
    "    im = ax.imshow(board, cmap=cmap)\n",
    "    yield im\n",
    "    for move in moves:\n",
    "        dir = dirs[move]\n",
    "        if try_move(r_pos, dir):\n",
    "            r_pos += dir\n",
    "        im.set_data(board)\n",
    "        yield im"
   ]
  },
  {
   "cell_type": "code",
   "execution_count": 36,
   "metadata": {},
   "outputs": [],
   "source": [
    "fig, ax = plt.subplots(figsize=(7, 3.5))\n",
    "plt.axis(\"off\")\n",
    "\n",
    "update_iter = update(ax)\n",
    "\n",
    "board = in_board_wide.copy()\n",
    "r_pos = np.argwhere(board == ROBOT)[0]\n",
    "ani = FuncAnimation(fig, func=lambda _: next(update_iter), frames=2000, interval=1, repeat=False);\n",
    "\n",
    "writer = PillowWriter(fps=30)\n",
    "ani.save(\"assets/day15/aoc15Part2.gif\", writer=writer, dpi=80)\n",
    "plt.close()"
   ]
  },
  {
   "cell_type": "markdown",
   "metadata": {},
   "source": [
    "![part2 gif](assets/day15/aoc15Part2.gif)"
   ]
  }
 ],
 "metadata": {
  "kernelspec": {
   "display_name": ".venv",
   "language": "python",
   "name": "python3"
  },
  "language_info": {
   "codemirror_mode": {
    "name": "ipython",
    "version": 3
   },
   "file_extension": ".py",
   "mimetype": "text/x-python",
   "name": "python",
   "nbconvert_exporter": "python",
   "pygments_lexer": "ipython3",
   "version": "3.13.1"
  }
 },
 "nbformat": 4,
 "nbformat_minor": 2
}
