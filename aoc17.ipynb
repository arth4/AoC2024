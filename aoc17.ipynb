{
 "cells": [
  {
   "cell_type": "code",
   "execution_count": 115,
   "metadata": {},
   "outputs": [],
   "source": [
    "import re\n",
    "import numpy as np"
   ]
  },
  {
   "cell_type": "code",
   "execution_count": 86,
   "metadata": {},
   "outputs": [],
   "source": [
    "A, B, C = 0, 1, 2\n",
    "\n",
    "def opps(i):\n",
    "    if i < 4:\n",
    "        return i\n",
    "    return reg[i-4]"
   ]
  },
  {
   "cell_type": "code",
   "execution_count": 87,
   "metadata": {},
   "outputs": [],
   "source": [
    "def adv(x):\n",
    "    reg[A] = int(reg[A] / (2 ** opps(x)))\n",
    "\n",
    "def bxl(x):\n",
    "    reg[B] = reg[B] ^ x\n",
    "\n",
    "def bst(x):\n",
    "    reg[B] = opps(x) % 8\n",
    "\n",
    "def jnz(x):\n",
    "    global ip\n",
    "    if reg[A]:\n",
    "        ip = x - 2\n",
    "\n",
    "def bxc(x):\n",
    "    reg[B] = reg[B] ^ reg[C]\n",
    "\n",
    "def out(x):    \n",
    "    std_out.append(opps(x) % 8)\n",
    "\n",
    "def bdv(x):\n",
    "    reg[B] = int(reg[A] / (2 ** opps(x)))\n",
    "\n",
    "def cdv(x):\n",
    "    reg[C] = int(reg[A] / (2 ** opps(x)))"
   ]
  },
  {
   "cell_type": "code",
   "execution_count": 88,
   "metadata": {},
   "outputs": [],
   "source": [
    "cmds = {\n",
    "    0: adv, 1: bxl, 2: bst,\n",
    "    3: jnz, 4: bxc, 5: out,\n",
    "    6: bdv, 7: cdv}"
   ]
  },
  {
   "cell_type": "code",
   "execution_count": 122,
   "metadata": {},
   "outputs": [],
   "source": [
    "input =\"\"\"Register A: 64196994\n",
    "Register B: 0\n",
    "Register C: 0\n",
    "\n",
    "Program: 2,4,1,1,7,5,1,5,4,0,0,3,5,5,3,0\"\"\""
   ]
  },
  {
   "cell_type": "code",
   "execution_count": 123,
   "metadata": {},
   "outputs": [],
   "source": [
    "*abc, program = re.match(\".*A:(.*)\\n.*B:(.*)\\n.*C:(.*)\\n\\n.*m:(.*)$\", input).groups()\n",
    "abc = list(map(int,abc))\n",
    "program = eval(program)"
   ]
  },
  {
   "cell_type": "code",
   "execution_count": 124,
   "metadata": {},
   "outputs": [],
   "source": [
    "reg = list(abc)\n",
    "ip =0\n",
    "std_out=[]"
   ]
  },
  {
   "cell_type": "code",
   "execution_count": 125,
   "metadata": {},
   "outputs": [
    {
     "name": "stdout",
     "output_type": "stream",
     "text": [
      "6,4,6,0,4,5,7,2,7\n"
     ]
    }
   ],
   "source": [
    "while ip < len(program):\n",
    "    cmd, opp = program[ip], program[ip + 1]\n",
    "    cmds[cmd](opp)\n",
    "    ip += 2\n",
    "print(\",\".join(list(map(str,std_out))))"
   ]
  },
  {
   "cell_type": "markdown",
   "metadata": {},
   "source": [
    "### part 2"
   ]
  },
  {
   "cell_type": "code",
   "execution_count": 233,
   "metadata": {},
   "outputs": [],
   "source": [
    "def do(a):\n",
    "    reg[:] = list(abc)\n",
    "    reg[A] = a\n",
    "    global ip\n",
    "    ip -= ip\n",
    "    \n",
    "    std_out[:]=[]\n",
    "\n",
    "    while ip < len(program):\n",
    "        cmd, opp = program[ip], program[ip + 1]\n",
    "        cmds[cmd](opp)\n",
    "        ip += 2\n",
    "    return std_out"
   ]
  },
  {
   "cell_type": "code",
   "execution_count": 149,
   "metadata": {},
   "outputs": [],
   "source": [
    "for i in range(64000000, 128000000 +1):\n",
    "    d = do(i)\n",
    "    if len(d) ==  len(program) and np.allclose(program, d):\n",
    "        break"
   ]
  },
  {
   "cell_type": "code",
   "execution_count": 250,
   "metadata": {},
   "outputs": [],
   "source": [
    "def fitness(i):\n",
    "    d=do(int(i[0]))\n",
    "    fit = 100000 * np.abs(len(d) -  len(program))\n",
    "    if len(d) == len(program):\n",
    "        fit += np.abs(np.subtract(d, program)).sum()\n",
    "\n",
    "    return fit"
   ]
  },
  {
   "cell_type": "code",
   "execution_count": 251,
   "metadata": {},
   "outputs": [
    {
     "data": {
      "text/plain": [
       "np.int64(1400000)"
      ]
     },
     "execution_count": 251,
     "metadata": {},
     "output_type": "execute_result"
    }
   ],
   "source": [
    "fitness([20,])"
   ]
  },
  {
   "cell_type": "code",
   "execution_count": null,
   "metadata": {},
   "outputs": [],
   "source": []
  }
 ],
 "metadata": {
  "kernelspec": {
   "display_name": ".venv",
   "language": "python",
   "name": "python3"
  },
  "language_info": {
   "codemirror_mode": {
    "name": "ipython",
    "version": 3
   },
   "file_extension": ".py",
   "mimetype": "text/x-python",
   "name": "python",
   "nbconvert_exporter": "python",
   "pygments_lexer": "ipython3",
   "version": "3.13.1"
  }
 },
 "nbformat": 4,
 "nbformat_minor": 2
}
