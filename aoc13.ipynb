{
 "cells": [
  {
   "cell_type": "code",
   "execution_count": 1,
   "metadata": {},
   "outputs": [],
   "source": [
    "import re\n",
    "import numpy as np"
   ]
  },
  {
   "cell_type": "code",
   "execution_count": 2,
   "metadata": {},
   "outputs": [],
   "source": [
    "input='Button A: X+23, Y+57\\nButton B: X+58, Y+28\\nPrize: X=11852, Y=17598\\n\\nButton A: X+41, Y+97\\nButton B: X+88, Y+65\\nPrize: X=8250, Y=10497\\n\\nButton A: X+15, Y+81\\nButton B: X+78, Y+15\\nPrize: X=12134, Y=9893\\n\\nButton A: X+26, Y+64\\nButton B: X+58, Y+26\\nPrize: X=4312, Y=2090\\n\\nButton A: X+47, Y+24\\nButton B: X+20, Y+57\\nPrize: X=17244, Y=6806\\n\\nButton A: X+46, Y+15\\nButton B: X+16, Y+54\\nPrize: X=14366, Y=19469\\n\\nButton A: X+39, Y+15\\nButton B: X+11, Y+30\\nPrize: X=9918, Y=19115\\n\\nButton A: X+54, Y+82\\nButton B: X+39, Y+11\\nPrize: X=4058, Y=5122\\n\\nButton A: X+63, Y+26\\nButton B: X+15, Y+20\\nPrize: X=3699, Y=1858\\n\\nButton A: X+18, Y+70\\nButton B: X+54, Y+11\\nPrize: X=11060, Y=3025\\n\\nButton A: X+46, Y+16\\nButton B: X+34, Y+53\\nPrize: X=4182, Y=12687\\n\\nButton A: X+14, Y+42\\nButton B: X+36, Y+22\\nPrize: X=3044, Y=3016\\n\\nButton A: X+18, Y+38\\nButton B: X+38, Y+19\\nPrize: X=8482, Y=13363\\n\\nButton A: X+39, Y+11\\nButton B: X+20, Y+68\\nPrize: X=15100, Y=18828\\n\\nButton A: X+60, Y+66\\nButton B: X+79, Y+12\\nPrize: X=8663, Y=3762\\n\\nButton A: X+53, Y+16\\nButton B: X+17, Y+74\\nPrize: X=16149, Y=9028\\n\\nButton A: X+58, Y+26\\nButton B: X+23, Y+63\\nPrize: X=10386, Y=1346\\n\\nButton A: X+14, Y+56\\nButton B: X+73, Y+18\\nPrize: X=5653, Y=3706\\n\\nButton A: X+27, Y+13\\nButton B: X+24, Y+47\\nPrize: X=10319, Y=19746\\n\\nButton A: X+81, Y+12\\nButton B: X+96, Y+84\\nPrize: X=9696, Y=4716\\n\\nButton A: X+56, Y+16\\nButton B: X+14, Y+67\\nPrize: X=3308, Y=6410\\n\\nButton A: X+40, Y+20\\nButton B: X+27, Y+69\\nPrize: X=4167, Y=5469\\n\\nButton A: X+34, Y+12\\nButton B: X+41, Y+57\\nPrize: X=15440, Y=3242\\n\\nButton A: X+59, Y+98\\nButton B: X+80, Y+20\\nPrize: X=3573, Y=4806\\n\\nButton A: X+85, Y+15\\nButton B: X+70, Y+67\\nPrize: X=11835, Y=5422\\n\\nButton A: X+19, Y+98\\nButton B: X+69, Y+56\\nPrize: X=6034, Y=10430\\n\\nButton A: X+24, Y+94\\nButton B: X+64, Y+32\\nPrize: X=2576, Y=2436\\n\\nButton A: X+11, Y+54\\nButton B: X+77, Y+36\\nPrize: X=12376, Y=14444\\n\\nButton A: X+88, Y+84\\nButton B: X+13, Y+63\\nPrize: X=1679, Y=5397\\n\\nButton A: X+27, Y+78\\nButton B: X+67, Y+14\\nPrize: X=16479, Y=8998\\n\\nButton A: X+44, Y+46\\nButton B: X+45, Y+11\\nPrize: X=5666, Y=3112\\n\\nButton A: X+61, Y+42\\nButton B: X+15, Y+41\\nPrize: X=14303, Y=1986\\n\\nButton A: X+46, Y+21\\nButton B: X+27, Y+62\\nPrize: X=16414, Y=15839\\n\\nButton A: X+43, Y+17\\nButton B: X+20, Y+43\\nPrize: X=9593, Y=998\\n\\nButton A: X+22, Y+56\\nButton B: X+47, Y+21\\nPrize: X=11425, Y=1145\\n\\nButton A: X+66, Y+14\\nButton B: X+13, Y+43\\nPrize: X=2441, Y=3375\\n\\nButton A: X+65, Y+36\\nButton B: X+19, Y+45\\nPrize: X=12899, Y=10844\\n\\nButton A: X+23, Y+55\\nButton B: X+64, Y+26\\nPrize: X=16837, Y=3837\\n\\nButton A: X+97, Y+37\\nButton B: X+18, Y+26\\nPrize: X=3635, Y=2879\\n\\nButton A: X+54, Y+19\\nButton B: X+27, Y+62\\nPrize: X=16946, Y=4731\\n\\nButton A: X+63, Y+14\\nButton B: X+24, Y+76\\nPrize: X=6194, Y=4432\\n\\nButton A: X+58, Y+36\\nButton B: X+17, Y+63\\nPrize: X=6356, Y=7092\\n\\nButton A: X+28, Y+62\\nButton B: X+43, Y+20\\nPrize: X=18969, Y=11152\\n\\nButton A: X+53, Y+79\\nButton B: X+35, Y+12\\nPrize: X=5083, Y=15315\\n\\nButton A: X+11, Y+54\\nButton B: X+58, Y+25\\nPrize: X=18973, Y=16071\\n\\nButton A: X+84, Y+34\\nButton B: X+22, Y+73\\nPrize: X=8454, Y=5537\\n\\nButton A: X+48, Y+22\\nButton B: X+15, Y+42\\nPrize: X=4695, Y=4716\\n\\nButton A: X+78, Y+22\\nButton B: X+18, Y+71\\nPrize: X=10940, Y=17046\\n\\nButton A: X+73, Y+12\\nButton B: X+80, Y+73\\nPrize: X=9390, Y=6930\\n\\nButton A: X+64, Y+16\\nButton B: X+13, Y+46\\nPrize: X=6726, Y=13428\\n\\nButton A: X+27, Y+25\\nButton B: X+88, Y+19\\nPrize: X=7337, Y=3482\\n\\nButton A: X+84, Y+15\\nButton B: X+55, Y+75\\nPrize: X=4550, Y=1725\\n\\nButton A: X+75, Y+40\\nButton B: X+14, Y+43\\nPrize: X=10844, Y=1143\\n\\nButton A: X+32, Y+92\\nButton B: X+89, Y+76\\nPrize: X=8356, Y=11792\\n\\nButton A: X+63, Y+32\\nButton B: X+19, Y+82\\nPrize: X=5129, Y=3184\\n\\nButton A: X+19, Y+67\\nButton B: X+32, Y+11\\nPrize: X=5477, Y=7691\\n\\nButton A: X+30, Y+83\\nButton B: X+98, Y+68\\nPrize: X=11514, Y=12964\\n\\nButton A: X+27, Y+57\\nButton B: X+27, Y+12\\nPrize: X=476, Y=5996\\n\\nButton A: X+11, Y+36\\nButton B: X+81, Y+40\\nPrize: X=14202, Y=17708\\n\\nButton A: X+35, Y+80\\nButton B: X+59, Y+35\\nPrize: X=1648, Y=1570\\n\\nButton A: X+17, Y+91\\nButton B: X+92, Y+70\\nPrize: X=4351, Y=3857\\n\\nButton A: X+19, Y+33\\nButton B: X+29, Y+14\\nPrize: X=16416, Y=1607\\n\\nButton A: X+50, Y+27\\nButton B: X+27, Y+57\\nPrize: X=13566, Y=11054\\n\\nButton A: X+36, Y+86\\nButton B: X+60, Y+29\\nPrize: X=5112, Y=8096\\n\\nButton A: X+16, Y+62\\nButton B: X+67, Y+16\\nPrize: X=18162, Y=2988\\n\\nButton A: X+79, Y+77\\nButton B: X+65, Y+11\\nPrize: X=4802, Y=1958\\n\\nButton A: X+59, Y+14\\nButton B: X+17, Y+56\\nPrize: X=2891, Y=998\\n\\nButton A: X+19, Y+37\\nButton B: X+48, Y+30\\nPrize: X=12759, Y=13947\\n\\nButton A: X+93, Y+78\\nButton B: X+12, Y+46\\nPrize: X=690, Y=974\\n\\nButton A: X+33, Y+31\\nButton B: X+22, Y+90\\nPrize: X=1584, Y=6064\\n\\nButton A: X+68, Y+26\\nButton B: X+13, Y+33\\nPrize: X=18241, Y=367\\n\\nButton A: X+42, Y+76\\nButton B: X+76, Y+35\\nPrize: X=4018, Y=2247\\n\\nButton A: X+45, Y+23\\nButton B: X+25, Y+56\\nPrize: X=4035, Y=2894\\n\\nButton A: X+55, Y+16\\nButton B: X+24, Y+53\\nPrize: X=492, Y=5359\\n\\nButton A: X+24, Y+46\\nButton B: X+57, Y+25\\nPrize: X=19118, Y=10440\\n\\nButton A: X+73, Y+42\\nButton B: X+19, Y+41\\nPrize: X=1841, Y=9264\\n\\nButton A: X+65, Y+16\\nButton B: X+29, Y+71\\nPrize: X=15670, Y=9818\\n\\nButton A: X+78, Y+22\\nButton B: X+70, Y+90\\nPrize: X=7136, Y=2364\\n\\nButton A: X+23, Y+12\\nButton B: X+45, Y+74\\nPrize: X=3141, Y=4468\\n\\nButton A: X+15, Y+32\\nButton B: X+48, Y+24\\nPrize: X=18866, Y=5536\\n\\nButton A: X+14, Y+98\\nButton B: X+81, Y+32\\nPrize: X=7764, Y=8338\\n\\nButton A: X+44, Y+14\\nButton B: X+27, Y+74\\nPrize: X=3488, Y=13980\\n\\nButton A: X+25, Y+66\\nButton B: X+47, Y+17\\nPrize: X=8141, Y=14837\\n\\nButton A: X+48, Y+22\\nButton B: X+20, Y+52\\nPrize: X=8896, Y=9180\\n\\nButton A: X+26, Y+11\\nButton B: X+34, Y+56\\nPrize: X=9746, Y=5133\\n\\nButton A: X+52, Y+11\\nButton B: X+23, Y+74\\nPrize: X=1342, Y=12876\\n\\nButton A: X+86, Y+22\\nButton B: X+67, Y+84\\nPrize: X=7503, Y=3056\\n\\nButton A: X+13, Y+27\\nButton B: X+60, Y+19\\nPrize: X=18113, Y=2714\\n\\nButton A: X+47, Y+15\\nButton B: X+20, Y+34\\nPrize: X=12235, Y=3047\\n\\nButton A: X+40, Y+12\\nButton B: X+11, Y+65\\nPrize: X=10907, Y=13793\\n\\nButton A: X+67, Y+40\\nButton B: X+13, Y+59\\nPrize: X=6155, Y=6544\\n\\nButton A: X+11, Y+47\\nButton B: X+41, Y+23\\nPrize: X=13259, Y=6563\\n\\nButton A: X+20, Y+49\\nButton B: X+66, Y+41\\nPrize: X=7654, Y=5147\\n\\nButton A: X+14, Y+89\\nButton B: X+85, Y+62\\nPrize: X=8082, Y=9283\\n\\nButton A: X+53, Y+20\\nButton B: X+17, Y+49\\nPrize: X=16011, Y=16899\\n\\nButton A: X+74, Y+32\\nButton B: X+16, Y+42\\nPrize: X=8598, Y=19638\\n\\nButton A: X+87, Y+45\\nButton B: X+33, Y+94\\nPrize: X=11124, Y=12216\\n\\nButton A: X+69, Y+30\\nButton B: X+25, Y+57\\nPrize: X=2718, Y=5177\\n\\nButton A: X+17, Y+43\\nButton B: X+69, Y+27\\nPrize: X=17472, Y=10852\\n\\nButton A: X+86, Y+26\\nButton B: X+23, Y+48\\nPrize: X=5652, Y=4582\\n\\nButton A: X+46, Y+21\\nButton B: X+13, Y+28\\nPrize: X=599, Y=6094\\n\\nButton A: X+39, Y+18\\nButton B: X+41, Y+59\\nPrize: X=309, Y=7791\\n\\nButton A: X+13, Y+57\\nButton B: X+79, Y+47\\nPrize: X=8315, Y=6819\\n\\nButton A: X+55, Y+33\\nButton B: X+14, Y+32\\nPrize: X=5856, Y=13904\\n\\nButton A: X+34, Y+18\\nButton B: X+17, Y+78\\nPrize: X=3349, Y=5016\\n\\nButton A: X+12, Y+57\\nButton B: X+50, Y+16\\nPrize: X=12838, Y=873\\n\\nButton A: X+95, Y+17\\nButton B: X+13, Y+78\\nPrize: X=4257, Y=6740\\n\\nButton A: X+78, Y+36\\nButton B: X+17, Y+53\\nPrize: X=9451, Y=14053\\n\\nButton A: X+20, Y+67\\nButton B: X+88, Y+65\\nPrize: X=4844, Y=4048\\n\\nButton A: X+11, Y+98\\nButton B: X+42, Y+37\\nPrize: X=485, Y=2635\\n\\nButton A: X+38, Y+71\\nButton B: X+38, Y+15\\nPrize: X=11976, Y=12740\\n\\nButton A: X+62, Y+21\\nButton B: X+17, Y+38\\nPrize: X=6782, Y=5533\\n\\nButton A: X+95, Y+20\\nButton B: X+34, Y+61\\nPrize: X=4860, Y=2100\\n\\nButton A: X+76, Y+31\\nButton B: X+23, Y+88\\nPrize: X=7593, Y=3333\\n\\nButton A: X+24, Y+49\\nButton B: X+46, Y+18\\nPrize: X=16826, Y=13801\\n\\nButton A: X+68, Y+34\\nButton B: X+24, Y+54\\nPrize: X=3484, Y=14232\\n\\nButton A: X+41, Y+17\\nButton B: X+39, Y+57\\nPrize: X=11455, Y=8047\\n\\nButton A: X+62, Y+39\\nButton B: X+14, Y+40\\nPrize: X=12594, Y=8762\\n\\nButton A: X+32, Y+45\\nButton B: X+95, Y+39\\nPrize: X=1806, Y=837\\n\\nButton A: X+16, Y+49\\nButton B: X+48, Y+11\\nPrize: X=14288, Y=3733\\n\\nButton A: X+23, Y+89\\nButton B: X+97, Y+86\\nPrize: X=4215, Y=5315\\n\\nButton A: X+16, Y+54\\nButton B: X+36, Y+16\\nPrize: X=18636, Y=1846\\n\\nButton A: X+11, Y+51\\nButton B: X+73, Y+17\\nPrize: X=1795, Y=3179\\n\\nButton A: X+72, Y+18\\nButton B: X+16, Y+77\\nPrize: X=1040, Y=17678\\n\\nButton A: X+48, Y+21\\nButton B: X+13, Y+42\\nPrize: X=1313, Y=7865\\n\\nButton A: X+87, Y+51\\nButton B: X+12, Y+37\\nPrize: X=1815, Y=2772\\n\\nButton A: X+25, Y+63\\nButton B: X+57, Y+16\\nPrize: X=12411, Y=3498\\n\\nButton A: X+31, Y+87\\nButton B: X+61, Y+11\\nPrize: X=8289, Y=7643\\n\\nButton A: X+48, Y+20\\nButton B: X+17, Y+74\\nPrize: X=4652, Y=3812\\n\\nButton A: X+17, Y+89\\nButton B: X+74, Y+67\\nPrize: X=5121, Y=6624\\n\\nButton A: X+19, Y+65\\nButton B: X+87, Y+47\\nPrize: X=8530, Y=7126\\n\\nButton A: X+54, Y+18\\nButton B: X+21, Y+61\\nPrize: X=8612, Y=16724\\n\\nButton A: X+19, Y+39\\nButton B: X+33, Y+15\\nPrize: X=11696, Y=5138\\n\\nButton A: X+13, Y+69\\nButton B: X+66, Y+34\\nPrize: X=4217, Y=4353\\n\\nButton A: X+21, Y+53\\nButton B: X+60, Y+26\\nPrize: X=10742, Y=14648\\n\\nButton A: X+96, Y+25\\nButton B: X+20, Y+98\\nPrize: X=6892, Y=6156\\n\\nButton A: X+33, Y+84\\nButton B: X+71, Y+17\\nPrize: X=8439, Y=7728\\n\\nButton A: X+13, Y+63\\nButton B: X+81, Y+29\\nPrize: X=7591, Y=6977\\n\\nButton A: X+16, Y+37\\nButton B: X+65, Y+24\\nPrize: X=17131, Y=19329\\n\\nButton A: X+20, Y+70\\nButton B: X+73, Y+14\\nPrize: X=1737, Y=12856\\n\\nButton A: X+36, Y+63\\nButton B: X+54, Y+24\\nPrize: X=2546, Y=11957\\n\\nButton A: X+21, Y+98\\nButton B: X+35, Y+12\\nPrize: X=3332, Y=6772\\n\\nButton A: X+28, Y+60\\nButton B: X+54, Y+14\\nPrize: X=8436, Y=8292\\n\\nButton A: X+11, Y+39\\nButton B: X+25, Y+11\\nPrize: X=6436, Y=3566\\n\\nButton A: X+77, Y+25\\nButton B: X+13, Y+48\\nPrize: X=17471, Y=4526\\n\\nButton A: X+92, Y+40\\nButton B: X+19, Y+74\\nPrize: X=3771, Y=3546\\n\\nButton A: X+30, Y+70\\nButton B: X+22, Y+11\\nPrize: X=2472, Y=5526\\n\\nButton A: X+13, Y+24\\nButton B: X+28, Y+11\\nPrize: X=359, Y=403\\n\\nButton A: X+83, Y+48\\nButton B: X+32, Y+80\\nPrize: X=9252, Y=11008\\n\\nButton A: X+34, Y+21\\nButton B: X+18, Y+37\\nPrize: X=7912, Y=18908\\n\\nButton A: X+30, Y+43\\nButton B: X+34, Y+13\\nPrize: X=11192, Y=8660\\n\\nButton A: X+81, Y+12\\nButton B: X+26, Y+23\\nPrize: X=3628, Y=1897\\n\\nButton A: X+51, Y+16\\nButton B: X+31, Y+73\\nPrize: X=19107, Y=8642\\n\\nButton A: X+43, Y+47\\nButton B: X+14, Y+67\\nPrize: X=4351, Y=5738\\n\\nButton A: X+15, Y+62\\nButton B: X+32, Y+11\\nPrize: X=7458, Y=8235\\n\\nButton A: X+38, Y+69\\nButton B: X+52, Y+12\\nPrize: X=3098, Y=4389\\n\\nButton A: X+27, Y+91\\nButton B: X+61, Y+57\\nPrize: X=5581, Y=11529\\n\\nButton A: X+48, Y+11\\nButton B: X+26, Y+74\\nPrize: X=852, Y=6766\\n\\nButton A: X+60, Y+32\\nButton B: X+32, Y+61\\nPrize: X=7144, Y=17970\\n\\nButton A: X+72, Y+26\\nButton B: X+12, Y+61\\nPrize: X=7484, Y=14817\\n\\nButton A: X+51, Y+48\\nButton B: X+84, Y+12\\nPrize: X=3549, Y=1932\\n\\nButton A: X+19, Y+60\\nButton B: X+29, Y+14\\nPrize: X=6382, Y=18428\\n\\nButton A: X+27, Y+54\\nButton B: X+85, Y+52\\nPrize: X=4952, Y=4004\\n\\nButton A: X+12, Y+52\\nButton B: X+79, Y+16\\nPrize: X=7587, Y=15996\\n\\nButton A: X+51, Y+97\\nButton B: X+89, Y+29\\nPrize: X=7929, Y=7085\\n\\nButton A: X+24, Y+77\\nButton B: X+72, Y+21\\nPrize: X=3992, Y=13591\\n\\nButton A: X+19, Y+72\\nButton B: X+79, Y+43\\nPrize: X=7335, Y=9850\\n\\nButton A: X+13, Y+52\\nButton B: X+58, Y+28\\nPrize: X=12621, Y=4872\\n\\nButton A: X+12, Y+47\\nButton B: X+42, Y+22\\nPrize: X=3846, Y=5231\\n\\nButton A: X+67, Y+38\\nButton B: X+19, Y+48\\nPrize: X=1538, Y=1654\\n\\nButton A: X+72, Y+40\\nButton B: X+20, Y+54\\nPrize: X=6680, Y=8464\\n\\nButton A: X+16, Y+41\\nButton B: X+71, Y+26\\nPrize: X=15567, Y=1312\\n\\nButton A: X+54, Y+12\\nButton B: X+15, Y+63\\nPrize: X=10076, Y=13298\\n\\nButton A: X+30, Y+50\\nButton B: X+49, Y+25\\nPrize: X=3371, Y=9275\\n\\nButton A: X+14, Y+53\\nButton B: X+48, Y+16\\nPrize: X=14006, Y=3617\\n\\nButton A: X+36, Y+15\\nButton B: X+25, Y+66\\nPrize: X=18087, Y=4319\\n\\nButton A: X+18, Y+55\\nButton B: X+25, Y+14\\nPrize: X=3103, Y=6050\\n\\nButton A: X+53, Y+21\\nButton B: X+28, Y+58\\nPrize: X=11541, Y=12151\\n\\nButton A: X+20, Y+42\\nButton B: X+56, Y+35\\nPrize: X=7500, Y=6906\\n\\nButton A: X+64, Y+28\\nButton B: X+17, Y+93\\nPrize: X=1832, Y=4224\\n\\nButton A: X+22, Y+80\\nButton B: X+61, Y+14\\nPrize: X=3750, Y=9724\\n\\nButton A: X+51, Y+12\\nButton B: X+19, Y+41\\nPrize: X=2350, Y=17460\\n\\nButton A: X+39, Y+92\\nButton B: X+91, Y+45\\nPrize: X=7579, Y=10583\\n\\nButton A: X+20, Y+80\\nButton B: X+83, Y+19\\nPrize: X=6579, Y=3467\\n\\nButton A: X+53, Y+97\\nButton B: X+89, Y+50\\nPrize: X=3667, Y=5018\\n\\nButton A: X+62, Y+18\\nButton B: X+11, Y+45\\nPrize: X=3026, Y=638\\n\\nButton A: X+23, Y+47\\nButton B: X+72, Y+44\\nPrize: X=1491, Y=17131\\n\\nButton A: X+18, Y+37\\nButton B: X+39, Y+21\\nPrize: X=15797, Y=16588\\n\\nButton A: X+33, Y+11\\nButton B: X+43, Y+70\\nPrize: X=10210, Y=569\\n\\nButton A: X+34, Y+56\\nButton B: X+38, Y+18\\nPrize: X=16032, Y=16250\\n\\nButton A: X+16, Y+68\\nButton B: X+46, Y+17\\nPrize: X=14172, Y=17686\\n\\nButton A: X+26, Y+78\\nButton B: X+80, Y+48\\nPrize: X=4556, Y=3108\\n\\nButton A: X+33, Y+61\\nButton B: X+33, Y+19\\nPrize: X=4257, Y=6063\\n\\nButton A: X+29, Y+96\\nButton B: X+80, Y+71\\nPrize: X=9252, Y=12989\\n\\nButton A: X+91, Y+20\\nButton B: X+13, Y+62\\nPrize: X=4589, Y=6568\\n\\nButton A: X+47, Y+16\\nButton B: X+28, Y+70\\nPrize: X=15125, Y=7010\\n\\nButton A: X+17, Y+38\\nButton B: X+24, Y+12\\nPrize: X=934, Y=9148\\n\\nButton A: X+54, Y+87\\nButton B: X+70, Y+31\\nPrize: X=9970, Y=10093\\n\\nButton A: X+25, Y+50\\nButton B: X+37, Y+12\\nPrize: X=8479, Y=8504\\n\\nButton A: X+15, Y+64\\nButton B: X+50, Y+14\\nPrize: X=7360, Y=6328\\n\\nButton A: X+67, Y+15\\nButton B: X+68, Y+86\\nPrize: X=5369, Y=1839\\n\\nButton A: X+34, Y+14\\nButton B: X+26, Y+45\\nPrize: X=7616, Y=17302\\n\\nButton A: X+35, Y+12\\nButton B: X+29, Y+66\\nPrize: X=6540, Y=17816\\n\\nButton A: X+13, Y+39\\nButton B: X+96, Y+61\\nPrize: X=8763, Y=6767\\n\\nButton A: X+66, Y+39\\nButton B: X+19, Y+44\\nPrize: X=7645, Y=17430\\n\\nButton A: X+88, Y+77\\nButton B: X+23, Y+80\\nPrize: X=7889, Y=11633\\n\\nButton A: X+14, Y+72\\nButton B: X+85, Y+26\\nPrize: X=2802, Y=12736\\n\\nButton A: X+81, Y+88\\nButton B: X+17, Y+79\\nPrize: X=1851, Y=6006\\n\\nButton A: X+22, Y+50\\nButton B: X+41, Y+16\\nPrize: X=11343, Y=2422\\n\\nButton A: X+14, Y+39\\nButton B: X+54, Y+15\\nPrize: X=2440, Y=16736\\n\\nButton A: X+36, Y+64\\nButton B: X+75, Y+41\\nPrize: X=9039, Y=8221\\n\\nButton A: X+51, Y+54\\nButton B: X+89, Y+23\\nPrize: X=4048, Y=2434\\n\\nButton A: X+61, Y+11\\nButton B: X+32, Y+87\\nPrize: X=3472, Y=2977\\n\\nButton A: X+55, Y+29\\nButton B: X+29, Y+62\\nPrize: X=13412, Y=8513\\n\\nButton A: X+36, Y+16\\nButton B: X+56, Y+78\\nPrize: X=6632, Y=16212\\n\\nButton A: X+81, Y+43\\nButton B: X+50, Y+90\\nPrize: X=8195, Y=4985\\n\\nButton A: X+35, Y+13\\nButton B: X+13, Y+26\\nPrize: X=5712, Y=14914\\n\\nButton A: X+58, Y+91\\nButton B: X+54, Y+25\\nPrize: X=8134, Y=6909\\n\\nButton A: X+97, Y+19\\nButton B: X+40, Y+59\\nPrize: X=1718, Y=797\\n\\nButton A: X+25, Y+67\\nButton B: X+60, Y+26\\nPrize: X=4765, Y=17447\\n\\nButton A: X+84, Y+75\\nButton B: X+14, Y+71\\nPrize: X=4634, Y=7355\\n\\nButton A: X+14, Y+30\\nButton B: X+44, Y+25\\nPrize: X=5738, Y=5800\\n\\nButton A: X+61, Y+28\\nButton B: X+29, Y+66\\nPrize: X=7310, Y=7992\\n\\nButton A: X+73, Y+81\\nButton B: X+65, Y+19\\nPrize: X=8427, Y=5685\\n\\nButton A: X+53, Y+15\\nButton B: X+40, Y+82\\nPrize: X=294, Y=18944\\n\\nButton A: X+15, Y+70\\nButton B: X+24, Y+19\\nPrize: X=1962, Y=5622\\n\\nButton A: X+80, Y+12\\nButton B: X+14, Y+72\\nPrize: X=4548, Y=11708\\n\\nButton A: X+43, Y+51\\nButton B: X+97, Y+32\\nPrize: X=8994, Y=4771\\n\\nButton A: X+14, Y+56\\nButton B: X+70, Y+17\\nPrize: X=1974, Y=3951\\n\\nButton A: X+13, Y+32\\nButton B: X+37, Y+26\\nPrize: X=2628, Y=11680\\n\\nButton A: X+39, Y+53\\nButton B: X+28, Y+11\\nPrize: X=8359, Y=7003\\n\\nButton A: X+31, Y+45\\nButton B: X+65, Y+17\\nPrize: X=4350, Y=4458\\n\\nButton A: X+53, Y+18\\nButton B: X+21, Y+48\\nPrize: X=5316, Y=1856\\n\\nButton A: X+98, Y+18\\nButton B: X+40, Y+51\\nPrize: X=2034, Y=1203\\n\\nButton A: X+82, Y+16\\nButton B: X+14, Y+72\\nPrize: X=6456, Y=12648\\n\\nButton A: X+35, Y+61\\nButton B: X+50, Y+23\\nPrize: X=14705, Y=17268\\n\\nButton A: X+52, Y+28\\nButton B: X+14, Y+48\\nPrize: X=7506, Y=12796\\n\\nButton A: X+58, Y+13\\nButton B: X+32, Y+68\\nPrize: X=14032, Y=10252\\n\\nButton A: X+15, Y+74\\nButton B: X+58, Y+13\\nPrize: X=11021, Y=15071\\n\\nButton A: X+11, Y+61\\nButton B: X+34, Y+12\\nPrize: X=3323, Y=10339\\n\\nButton A: X+46, Y+85\\nButton B: X+76, Y+36\\nPrize: X=8134, Y=8973\\n\\nButton A: X+21, Y+65\\nButton B: X+65, Y+38\\nPrize: X=4433, Y=3277\\n\\nButton A: X+36, Y+18\\nButton B: X+26, Y+56\\nPrize: X=1890, Y=14514\\n\\nButton A: X+86, Y+40\\nButton B: X+35, Y+98\\nPrize: X=3788, Y=6992\\n\\nButton A: X+13, Y+46\\nButton B: X+81, Y+62\\nPrize: X=2074, Y=4868\\n\\nButton A: X+11, Y+33\\nButton B: X+51, Y+26\\nPrize: X=19564, Y=11909\\n\\nButton A: X+12, Y+69\\nButton B: X+51, Y+16\\nPrize: X=9242, Y=18519\\n\\nButton A: X+59, Y+72\\nButton B: X+66, Y+18\\nPrize: X=6394, Y=2862\\n\\nButton A: X+35, Y+16\\nButton B: X+23, Y+33\\nPrize: X=2614, Y=1169\\n\\nButton A: X+38, Y+90\\nButton B: X+76, Y+54\\nPrize: X=9424, Y=12366\\n\\nButton A: X+17, Y+63\\nButton B: X+49, Y+15\\nPrize: X=13592, Y=13400\\n\\nButton A: X+82, Y+63\\nButton B: X+36, Y+88\\nPrize: X=6188, Y=5780\\n\\nButton A: X+34, Y+22\\nButton B: X+11, Y+24\\nPrize: X=8201, Y=16846\\n\\nButton A: X+68, Y+18\\nButton B: X+13, Y+61\\nPrize: X=13949, Y=2649\\n\\nButton A: X+55, Y+87\\nButton B: X+70, Y+30\\nPrize: X=6260, Y=6996\\n\\nButton A: X+30, Y+55\\nButton B: X+83, Y+25\\nPrize: X=5030, Y=4135\\n\\nButton A: X+68, Y+21\\nButton B: X+53, Y+86\\nPrize: X=8804, Y=8568\\n\\nButton A: X+72, Y+23\\nButton B: X+12, Y+71\\nPrize: X=19100, Y=5294\\n\\nButton A: X+45, Y+30\\nButton B: X+28, Y+92\\nPrize: X=4659, Y=5526\\n\\nButton A: X+75, Y+33\\nButton B: X+22, Y+96\\nPrize: X=3846, Y=9720\\n\\nButton A: X+63, Y+27\\nButton B: X+23, Y+49\\nPrize: X=14605, Y=19143\\n\\nButton A: X+21, Y+41\\nButton B: X+34, Y+16\\nPrize: X=16799, Y=1471\\n\\nButton A: X+14, Y+44\\nButton B: X+61, Y+25\\nPrize: X=1021, Y=1375\\n\\nButton A: X+18, Y+67\\nButton B: X+47, Y+11\\nPrize: X=18923, Y=15540\\n\\nButton A: X+21, Y+48\\nButton B: X+79, Y+43\\nPrize: X=8375, Y=6899\\n\\nButton A: X+14, Y+30\\nButton B: X+41, Y+28\\nPrize: X=5771, Y=4974\\n\\nButton A: X+51, Y+72\\nButton B: X+96, Y+38\\nPrize: X=7491, Y=5504\\n\\nButton A: X+50, Y+73\\nButton B: X+27, Y+12\\nPrize: X=5807, Y=6542\\n\\nButton A: X+24, Y+56\\nButton B: X+29, Y+15\\nPrize: X=8703, Y=15621\\n\\nButton A: X+23, Y+82\\nButton B: X+66, Y+64\\nPrize: X=5165, Y=8650\\n\\nButton A: X+15, Y+34\\nButton B: X+49, Y+29\\nPrize: X=18811, Y=3224\\n\\nButton A: X+16, Y+68\\nButton B: X+75, Y+51\\nPrize: X=4858, Y=8330\\n\\nButton A: X+63, Y+37\\nButton B: X+21, Y+53\\nPrize: X=19058, Y=13376\\n\\nButton A: X+40, Y+51\\nButton B: X+47, Y+18\\nPrize: X=2428, Y=2928\\n\\nButton A: X+35, Y+60\\nButton B: X+34, Y+13\\nPrize: X=12875, Y=11185\\n\\nButton A: X+71, Y+28\\nButton B: X+20, Y+38\\nPrize: X=2353, Y=2012\\n\\nButton A: X+36, Y+71\\nButton B: X+78, Y+19\\nPrize: X=1464, Y=730\\n\\nButton A: X+13, Y+38\\nButton B: X+54, Y+14\\nPrize: X=4406, Y=6146\\n\\nButton A: X+20, Y+70\\nButton B: X+64, Y+13\\nPrize: X=13152, Y=10009\\n\\nButton A: X+14, Y+76\\nButton B: X+53, Y+27\\nPrize: X=2005, Y=7495\\n\\nButton A: X+60, Y+29\\nButton B: X+28, Y+64\\nPrize: X=2404, Y=12748\\n\\nButton A: X+12, Y+31\\nButton B: X+69, Y+25\\nPrize: X=16160, Y=6136\\n\\nButton A: X+36, Y+14\\nButton B: X+11, Y+57\\nPrize: X=6244, Y=1242\\n\\nButton A: X+40, Y+44\\nButton B: X+65, Y+14\\nPrize: X=6680, Y=1828\\n\\nButton A: X+51, Y+14\\nButton B: X+14, Y+63\\nPrize: X=8060, Y=7704\\n\\nButton A: X+68, Y+49\\nButton B: X+30, Y+72\\nPrize: X=5414, Y=8083\\n\\nButton A: X+63, Y+22\\nButton B: X+24, Y+62\\nPrize: X=4842, Y=4908\\n\\nButton A: X+81, Y+34\\nButton B: X+13, Y+60\\nPrize: X=18869, Y=1244\\n\\nButton A: X+44, Y+37\\nButton B: X+22, Y+70\\nPrize: X=3762, Y=6820\\n\\nButton A: X+32, Y+59\\nButton B: X+22, Y+13\\nPrize: X=828, Y=8847\\n\\nButton A: X+45, Y+35\\nButton B: X+13, Y+35\\nPrize: X=1400, Y=3080\\n\\nButton A: X+17, Y+46\\nButton B: X+40, Y+11\\nPrize: X=7459, Y=7662\\n\\nButton A: X+48, Y+16\\nButton B: X+14, Y+59\\nPrize: X=15488, Y=4344\\n\\nButton A: X+12, Y+30\\nButton B: X+68, Y+52\\nPrize: X=14804, Y=13268\\n\\nButton A: X+25, Y+70\\nButton B: X+45, Y+12\\nPrize: X=10225, Y=3220\\n\\nButton A: X+73, Y+37\\nButton B: X+14, Y+40\\nPrize: X=18129, Y=2281\\n\\nButton A: X+37, Y+78\\nButton B: X+89, Y+48\\nPrize: X=6238, Y=8124\\n\\nButton A: X+36, Y+77\\nButton B: X+39, Y+25\\nPrize: X=6630, Y=8456\\n\\nButton A: X+17, Y+52\\nButton B: X+42, Y+28\\nPrize: X=1610, Y=2212\\n\\nButton A: X+77, Y+39\\nButton B: X+28, Y+73\\nPrize: X=6496, Y=6584\\n\\nButton A: X+13, Y+96\\nButton B: X+86, Y+31\\nPrize: X=1294, Y=4119\\n\\nButton A: X+64, Y+21\\nButton B: X+13, Y+41\\nPrize: X=15407, Y=16446\\n\\nButton A: X+99, Y+57\\nButton B: X+28, Y+79\\nPrize: X=4992, Y=6081\\n\\nButton A: X+36, Y+11\\nButton B: X+30, Y+52\\nPrize: X=17516, Y=1994\\n\\nButton A: X+68, Y+11\\nButton B: X+17, Y+59\\nPrize: X=13113, Y=3576\\n\\nButton A: X+69, Y+63\\nButton B: X+12, Y+50\\nPrize: X=5934, Y=6316\\n\\nButton A: X+11, Y+35\\nButton B: X+70, Y+34\\nPrize: X=4430, Y=12998\\n\\nButton A: X+68, Y+37\\nButton B: X+27, Y+87\\nPrize: X=3120, Y=4590\\n\\nButton A: X+42, Y+22\\nButton B: X+26, Y+56\\nPrize: X=11322, Y=2252\\n\\nButton A: X+69, Y+44\\nButton B: X+19, Y+47\\nPrize: X=8320, Y=5054\\n\\nButton A: X+88, Y+25\\nButton B: X+17, Y+60\\nPrize: X=3272, Y=2695\\n\\nButton A: X+94, Y+66\\nButton B: X+30, Y+83\\nPrize: X=3106, Y=4906\\n\\nButton A: X+34, Y+81\\nButton B: X+42, Y+26\\nPrize: X=4804, Y=7890\\n\\nButton A: X+21, Y+99\\nButton B: X+64, Y+29\\nPrize: X=6823, Y=9803\\n\\nButton A: X+39, Y+74\\nButton B: X+93, Y+55\\nPrize: X=5511, Y=4991\\n\\nButton A: X+12, Y+65\\nButton B: X+67, Y+46\\nPrize: X=3698, Y=7988\\n\\nButton A: X+28, Y+12\\nButton B: X+11, Y+35\\nPrize: X=10466, Y=14146\\n\\nButton A: X+12, Y+80\\nButton B: X+42, Y+45\\nPrize: X=3858, Y=4335\\n\\nButton A: X+67, Y+25\\nButton B: X+12, Y+59\\nPrize: X=13506, Y=13733\\n\\nButton A: X+80, Y+52\\nButton B: X+17, Y+42\\nPrize: X=7298, Y=11648'"
   ]
  },
  {
   "cell_type": "code",
   "execution_count": 3,
   "metadata": {},
   "outputs": [],
   "source": [
    "test_input= \"\"\"Button A: X+94, Y+34\n",
    "Button B: X+22, Y+67\n",
    "Prize: X=8400, Y=5400\n",
    "\n",
    "Button A: X+26, Y+66\n",
    "Button B: X+67, Y+21\n",
    "Prize: X=12748, Y=12176\n",
    "\n",
    "Button A: X+17, Y+86\n",
    "Button B: X+84, Y+37\n",
    "Prize: X=7870, Y=6450\n",
    "\n",
    "Button A: X+69, Y+23\n",
    "Button B: X+27, Y+71\n",
    "Prize: X=18641, Y=10279\"\"\""
   ]
  },
  {
   "cell_type": "code",
   "execution_count": 4,
   "metadata": {},
   "outputs": [],
   "source": [
    "# [A_vec, B_vec, goal_vec]\n",
    "inp = [np.array(re.match(\".*X[+](.*),.*Y[+](.*)\\n.*X[+](.*),.*Y[+](.*)\\n.*X[=](.*),.*Y[=](.*)$\", line).groups(), int).reshape(3,2) for line in input.split(\"\\n\\n\")]\n",
    "# inp = [np.array(re.match(\".*X[+](.*),.*Y[+](.*)\\n.*X[+](.*),.*Y[+](.*)\\n.*X[=](.*),.*Y[=](.*)$\", line).groups(), int).reshape(3,2) for line in test_input.split(\"\\n\\n\")]"
   ]
  },
  {
   "cell_type": "markdown",
   "metadata": {},
   "source": [
    "### part 1"
   ]
  },
  {
   "cell_type": "code",
   "execution_count": 5,
   "metadata": {},
   "outputs": [],
   "source": [
    "def cost(a,b):\n",
    "    return 3*a + b"
   ]
  },
  {
   "cell_type": "code",
   "execution_count": 6,
   "metadata": {},
   "outputs": [],
   "source": [
    "def is_int(x):\n",
    "    np.round(x, 3, out=x)\n",
    "    return np.all(x == np.floor(x))"
   ]
  },
  {
   "cell_type": "code",
   "execution_count": 9,
   "metadata": {},
   "outputs": [
    {
     "data": {
      "text/plain": [
       "28753"
      ]
     },
     "execution_count": 9,
     "metadata": {},
     "output_type": "execute_result"
    }
   ],
   "source": [
    "res = 0\n",
    "for A_vec, B_vec, goal_vec in inp:\n",
    "    best =  np.linalg.solve(np.stack([A_vec, B_vec]).T, goal_vec)\n",
    "    if is_int(best):\n",
    "        res += cost(*best)\n",
    "int(res)"
   ]
  },
  {
   "cell_type": "markdown",
   "metadata": {},
   "source": [
    "### part 2"
   ]
  },
  {
   "cell_type": "code",
   "execution_count": 11,
   "metadata": {},
   "outputs": [
    {
     "data": {
      "text/plain": [
       "102718967795500"
      ]
     },
     "execution_count": 11,
     "metadata": {},
     "output_type": "execute_result"
    }
   ],
   "source": [
    "res = 0\n",
    "for A_vec, B_vec, goal_vec in inp:\n",
    "    best =  np.linalg.solve(np.stack([A_vec, B_vec]).T, np.array(goal_vec)+10000000000000)\n",
    "    if is_int(best):\n",
    "        res += cost(*best)\n",
    "int(res)"
   ]
  }
 ],
 "metadata": {
  "kernelspec": {
   "display_name": "Python 3",
   "language": "python",
   "name": "python3"
  },
  "language_info": {
   "codemirror_mode": {
    "name": "ipython",
    "version": 3
   },
   "file_extension": ".py",
   "mimetype": "text/x-python",
   "name": "python",
   "nbconvert_exporter": "python",
   "pygments_lexer": "ipython3",
   "version": "3.12.3"
  }
 },
 "nbformat": 4,
 "nbformat_minor": 2
}
