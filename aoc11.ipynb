{
 "cells": [
  {
   "cell_type": "code",
   "execution_count": 1,
   "metadata": {},
   "outputs": [],
   "source": [
    "import numpy as np"
   ]
  },
  {
   "cell_type": "code",
   "execution_count": 2,
   "metadata": {},
   "outputs": [],
   "source": [
    "def stone_shift(val):\n",
    "    if val == 0:\n",
    "        return [1]\n",
    "    s_val = str(val)\n",
    "\n",
    "    if len(s_val) % 2 == 0:\n",
    "        half = len(s_val) // 2\n",
    "        return [int(s_val[:half]), int(s_val[half:])]\n",
    "\n",
    "    return [val * 2024]\n"
   ]
  },
  {
   "cell_type": "code",
   "execution_count": 13,
   "metadata": {},
   "outputs": [
    {
     "data": {
      "text/plain": [
       "[5, 89749, 6061, 43, 867, 1965860, 0, 206250]"
      ]
     },
     "execution_count": 13,
     "metadata": {},
     "output_type": "execute_result"
    }
   ],
   "source": [
    "test_input = \"125 17\"\n",
    "input = \"5 89749 6061 43 867 1965860 0 206250\"\n",
    "\n",
    "# stones = [int(i) for i in test_input.split(\" \")]\n",
    "stones = list(int(i) for i in input.split(\" \"))\n",
    "stones"
   ]
  },
  {
   "cell_type": "code",
   "execution_count": 14,
   "metadata": {},
   "outputs": [],
   "source": [
    "def go(n):\n",
    "    stone_count = {val : count for val, count in np.stack(np.unique(stones, return_counts=True)).T}\n",
    "    for n in range(n):\n",
    "        new_count = {}\n",
    "        for val, count in stone_count.items():\n",
    "            for i in stone_shift(val):\n",
    "                new_count[i] = new_count.get(i, 0) + count\n",
    "\n",
    "        stone_count = new_count\n",
    "\n",
    "    return int(sum(stone_count.values()))"
   ]
  },
  {
   "cell_type": "code",
   "execution_count": 15,
   "metadata": {},
   "outputs": [
    {
     "data": {
      "text/plain": [
       "203609"
      ]
     },
     "execution_count": 15,
     "metadata": {},
     "output_type": "execute_result"
    }
   ],
   "source": [
    "go(25)"
   ]
  },
  {
   "cell_type": "markdown",
   "metadata": {},
   "source": [
    "### part 2"
   ]
  },
  {
   "cell_type": "code",
   "execution_count": 16,
   "metadata": {},
   "outputs": [
    {
     "data": {
      "text/plain": [
       "240954878211138"
      ]
     },
     "execution_count": 16,
     "metadata": {},
     "output_type": "execute_result"
    }
   ],
   "source": [
    "go(75)"
   ]
  }
 ],
 "metadata": {
  "kernelspec": {
   "display_name": ".venv",
   "language": "python",
   "name": "python3"
  },
  "language_info": {
   "codemirror_mode": {
    "name": "ipython",
    "version": 3
   },
   "file_extension": ".py",
   "mimetype": "text/x-python",
   "name": "python",
   "nbconvert_exporter": "python",
   "pygments_lexer": "ipython3",
   "version": "3.13.1"
  }
 },
 "nbformat": 4,
 "nbformat_minor": 2
}
