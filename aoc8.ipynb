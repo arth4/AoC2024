{
 "cells": [
  {
   "cell_type": "code",
   "execution_count": 1,
   "metadata": {},
   "outputs": [],
   "source": [
    "import numpy as np"
   ]
  },
  {
   "cell_type": "code",
   "execution_count": 2,
   "metadata": {},
   "outputs": [],
   "source": [
    "input = '..................................................\\n.......................w..........................\\n..A................G..............................\\n......o...........O..G............................\\n................s.....w...........................\\n..........R.............w.........................\\n.Ro......Z...........w..............9.............\\n.....o..........G..Z.....R........................\\n..R..........A.....o..3...........................\\nA...........sO....6.......9.......................\\n.........V.............s.9......c.................\\n..........Z......s........r..a...9..j.............\\n.......................................c..........\\n..................................c..U......q.....\\n.........O.........r.................6...U...X....\\n.............n....................................\\n..................Z...r.......................X...\\n.......................................v..........\\n.................................j..7...6....a....\\n.........c.......................r.............X..\\n.......n...........................J..j..F........\\n.................................t.6J...........g.\\n......O...n.......................................\\n............................................X.a...\\n................5........T......U.........1......b\\n..........................vj............1........J\\n........................V.p.......J......B....g...\\n.........................4..V....................3\\n..............N..............W.....1..8...b.aQ....\\n..................n....V...........Q....b2........\\n....G.P.............z.......v8..t...T..........g..\\n...........................0...T..................\\n.........................v.....................3..\\n......................zf...............b.C.S......\\n...........................t..f...................\\n...5....0M.......................84.......F7C.....\\n.........5.........M..................B....N......\\n..x.5.....................................T.......\\n..................................Qm.........C....\\n........................f..............F...g7...N.\\n.0.........f.........4.......................7..FS\\n.x.......P........Uq..M...t...Q..........N........\\n...x.................q..M...........4...m.........\\n..................P.....................3.........\\n......x.....0..................z...........2......\\n......................p...............m.8...W.2.Su\\n..........q.......................................\\n..................................................\\n..........................2..p...............u..C.\\n.................p...............z.....W..u..1B...'"
   ]
  },
  {
   "cell_type": "code",
   "execution_count": 3,
   "metadata": {},
   "outputs": [],
   "source": [
    "test_input = \"\"\"............\n",
    "........0...\n",
    ".....0......\n",
    ".......0....\n",
    "....0.......\n",
    "......A.....\n",
    "............\n",
    "............\n",
    "........A...\n",
    ".........A..\n",
    "............\n",
    "............\"\"\""
   ]
  },
  {
   "cell_type": "markdown",
   "metadata": {},
   "source": [
    "#### input prep"
   ]
  },
  {
   "cell_type": "code",
   "execution_count": 4,
   "metadata": {},
   "outputs": [
    {
     "name": "stdout",
     "output_type": "stream",
     "text": [
      "[[-- -- -- -- -- -- -- -- -- -- -- --]\n",
      " [-- -- -- -- -- -- -- -- 48 -- -- --]\n",
      " [-- -- -- -- -- 48 -- -- -- -- -- --]\n",
      " [-- -- -- -- -- -- -- 48 -- -- -- --]\n",
      " [-- -- -- -- 48 -- -- -- -- -- -- --]\n",
      " [-- -- -- -- -- -- 65 -- -- -- -- --]\n",
      " [-- -- -- -- -- -- -- -- -- -- -- --]\n",
      " [-- -- -- -- -- -- -- -- -- -- -- --]\n",
      " [-- -- -- -- -- -- -- -- 65 -- -- --]\n",
      " [-- -- -- -- -- -- -- -- -- 65 -- --]\n",
      " [-- -- -- -- -- -- -- -- -- -- -- --]\n",
      " [-- -- -- -- -- -- -- -- -- -- -- --]]\n"
     ]
    }
   ],
   "source": [
    "inp = np.array([[ord(c) for c in l] for l in input.splitlines()])\n",
    "inp = np.ma.array(inp, mask=inp==ord(\".\"))\n",
    "\n",
    "test_inp = np.array([[ord(c) for c in l] for l in test_input.splitlines()])\n",
    "test_inp = np.ma.array(test_inp, mask=test_inp==ord(\".\"))\n",
    "\n",
    "print(test_inp)"
   ]
  },
  {
   "cell_type": "markdown",
   "metadata": {},
   "source": [
    "### part1"
   ]
  },
  {
   "cell_type": "code",
   "execution_count": 5,
   "metadata": {},
   "outputs": [],
   "source": [
    "# vals = np.unique(inp).compressed()\n",
    "# points = [np.stack(np.where(inp == x)).T for x in vals]\n",
    "\n",
    "# arr = np.array([ (2*pts[j] - pts[i],2*pts[i] - pts[j] ) for pts in points\n",
    "#     for i in range(len(pts))\n",
    "#         for j in range(i+1,len(pts))\n",
    "# ]).reshape(-1,2)\n",
    "\n",
    "# sum((lambda x : (0 <= x) & (x < inp.shape))(np.unique(arr, axis=0)).all(axis=1))"
   ]
  },
  {
   "cell_type": "code",
   "execution_count": 6,
   "metadata": {},
   "outputs": [
    {
     "data": {
      "text/plain": [
       "313"
      ]
     },
     "execution_count": 6,
     "metadata": {},
     "output_type": "execute_result"
    }
   ],
   "source": [
    "sum((lambda x : (0 <= x) & (x < inp.shape))(np.unique(np.array([ (2*pts[j] - pts[i],2*pts[i] - pts[j] ) for pts in [np.stack(np.where(inp == x)).T for x in np.unique(inp).compressed()] for i in range(len(pts)) for j in range(i+1,len(pts))]).reshape(-1,2), axis=0)).all(axis=1))"
   ]
  },
  {
   "cell_type": "markdown",
   "metadata": {},
   "source": [
    "### part 2"
   ]
  },
  {
   "cell_type": "code",
   "execution_count": 7,
   "metadata": {},
   "outputs": [],
   "source": [
    "# vals = np.unique(inp).compressed()\n",
    "# points = [np.stack(np.where(inp == x)).T for x in vals]\n",
    "\n",
    "# arr = np.array([ [pts[i] + (pts[i] - pts[j]) * n for n in range(-inp.shape[0], inp.shape[0])] for pts in points\n",
    "#     for i in range(len(pts))\n",
    "#         for j in range(i+1,len(pts))\n",
    "# ]).reshape(-1,2)\n",
    "\n",
    "# sum((lambda x : (0 <= x) & (x < inp.shape))(np.unique(arr, axis=0)).all(axis=1))"
   ]
  },
  {
   "cell_type": "code",
   "execution_count": 8,
   "metadata": {},
   "outputs": [
    {
     "data": {
      "text/plain": [
       "1064"
      ]
     },
     "execution_count": 8,
     "metadata": {},
     "output_type": "execute_result"
    }
   ],
   "source": [
    "sum((lambda x : (0 <= x) & (x < inp.shape))(np.unique(np.array([ [pts[i] + (pts[i] - pts[j]) * n for n in range(-inp.shape[0], inp.shape[0])] for pts in [np.stack(np.where(inp == x)).T for x in np.unique(inp).compressed()] for i in range(len(pts)) for j in range(i+1,len(pts))]).reshape(-1,2), axis=0)).all(axis=1))"
   ]
  }
 ],
 "metadata": {
  "kernelspec": {
   "display_name": "Python 3",
   "language": "python",
   "name": "python3"
  },
  "language_info": {
   "codemirror_mode": {
    "name": "ipython",
    "version": 3
   },
   "file_extension": ".py",
   "mimetype": "text/x-python",
   "name": "python",
   "nbconvert_exporter": "python",
   "pygments_lexer": "ipython3",
   "version": "3.9.0"
  }
 },
 "nbformat": 4,
 "nbformat_minor": 2
}
